{
 "cells": [
  {
   "cell_type": "markdown",
   "metadata": {},
   "source": [
    "# 최종분석과제(기말대체)   \n",
    "## 201601368 제명수\n",
    "#### 기말고사 대체 과제로, 이동통신 사용자 데이터 분석하기를 드립니다.\n",
    "#### 각 컬럼에 대한 설명은 다음과 같습니다."
   ]
  },
  {
   "cell_type": "markdown",
   "metadata": {},
   "source": [
    "##### 정답은 없으니, 여러분이 배운 지식을 활용하여 다채로운 분석을 시도해보기 바랍니다.\n",
    "##### 기한은 6/16 23:55까지이며, github 에 게시 후 링크를 제출합니다.\n",
    "##### Github 제출 시, 꼭 상단에 자신의 이름을 쓰기 바랍니다.\n",
    "\n",
    "##### 모두 고생 많았습니다.\n",
    "##### 학기 마무리 건강히 하기 바랍니다."
   ]
  },
  {
   "cell_type": "code",
   "execution_count": 1,
   "metadata": {},
   "outputs": [],
   "source": [
    "##### Leave\t가입해지여부(1이면 해지)\n",
    "##### MemberWeeks\t가입기간\n",
    "##### NewContract\t가입갱신여부(1이면 갱신)\n",
    "##### IsData\t데이터요금제사용여부(1이면 사용)\n",
    "##### DataAmount\t데이터사용량(GB)\n",
    "##### Callcenter\t고객센터전화량\n",
    "##### CalMins\t월평균전화량(분)\n",
    "##### CalCounts\t월평균전화수(횟수)\n",
    "##### MonthlyFee\t월평균요금\n",
    "##### OverFee\t초과요금\n",
    "##### RoamingMin\t로밍시간(분)"
   ]
  },
  {
   "cell_type": "markdown",
   "metadata": {},
   "source": [
    "## 우선, 조사하고싶은 것을 먼저 정해보겠습니다! 그 후에 데이터를 뜯어보는게 좋을 것 같아요.\n",
    "##### 지금 11가지 종류의 데이터가 있습니다.\n",
    "##### 이 데이터들로, 무엇을 알아볼 수 있을까요?\n",
    "##### 생각을 해봅시다 ~\n",
    "#### 1. 가장 먼저, 데이터 크기를 줄여줍니다. category 형식과 int, float 형식들로 정리할 수 있겠죠?\n",
    "#### 그리고\n",
    "#### < 궁금한 것들 ? >\n",
    "#### 2. 일단, 통신사는 (1) 새로 유입된 고객들과 (2) 기존 고객들 그리고, (3) 빠져나간 고객들 \n",
    "##### 이렇게 세 종류의 고객들이 있겠죠?"
   ]
  },
  {
   "cell_type": "code",
   "execution_count": 2,
   "metadata": {},
   "outputs": [],
   "source": [
    "import pandas as pd\n",
    "import numpy as np\n",
    "import matplotlib.pyplot as plt\n",
    "\n",
    "phone = pd.read_csv(\"C:/Users/chemy/Documents/프3/telco.csv\")"
   ]
  },
  {
   "cell_type": "markdown",
   "metadata": {},
   "source": [
    "##### (가입갱신여부) 을 가지고, 빠져나간 고객들을 볼 수 있겠죠. 0 이면 빠져나간 고객.  \n",
    "##### 추가로, (가입갱신여부) = 1인데, (가입기간) = 짧으면, 새로 유입된 고객이라고 볼 수 있겠죠?\n",
    "##### 그리고, (가입갱신여부) = 1인데, (가입기간) = 일정기간 이상인 기족 고객들이 있을 것입니다.\n",
    "#### ★ 이 세 집단을  (old) (new) (ing) 으로 나눈 후에, 나머지 8가지 칼럼들에 대한, 각 집단별 특징들을 알아봅시다!\n",
    "#### 그 때, 그래프도 그리면서, 알아보면 좋을 것 같습니다!"
   ]
  },
  {
   "cell_type": "markdown",
   "metadata": {},
   "source": [
    "## ★★★  네. 처음에는, 이렇게 계획을 했었습니다. \n",
    "## 그런데, 뒤에 가서, 이게 잘못되었다는 것을 깨닿고 다시, 정했습니다!!   뒤에서 나옵니다..."
   ]
  },
  {
   "cell_type": "code",
   "execution_count": 3,
   "metadata": {},
   "outputs": [
    {
     "data": {
      "text/html": [
       "<div>\n",
       "<style scoped>\n",
       "    .dataframe tbody tr th:only-of-type {\n",
       "        vertical-align: middle;\n",
       "    }\n",
       "\n",
       "    .dataframe tbody tr th {\n",
       "        vertical-align: top;\n",
       "    }\n",
       "\n",
       "    .dataframe thead th {\n",
       "        text-align: right;\n",
       "    }\n",
       "</style>\n",
       "<table border=\"1\" class=\"dataframe\">\n",
       "  <thead>\n",
       "    <tr style=\"text-align: right;\">\n",
       "      <th></th>\n",
       "      <th>Leave</th>\n",
       "      <th>MemberWeeks</th>\n",
       "      <th>NewContract</th>\n",
       "      <th>IsData</th>\n",
       "      <th>DataAmount</th>\n",
       "      <th>Callcenter</th>\n",
       "      <th>CalMins</th>\n",
       "      <th>CalCounts</th>\n",
       "      <th>MonthlyFee</th>\n",
       "      <th>OverFee</th>\n",
       "      <th>RoamingMin</th>\n",
       "    </tr>\n",
       "  </thead>\n",
       "  <tbody>\n",
       "    <tr>\n",
       "      <th>0</th>\n",
       "      <td>0</td>\n",
       "      <td>128</td>\n",
       "      <td>1</td>\n",
       "      <td>1</td>\n",
       "      <td>2.70</td>\n",
       "      <td>1</td>\n",
       "      <td>265.1</td>\n",
       "      <td>110</td>\n",
       "      <td>89.0</td>\n",
       "      <td>9.87</td>\n",
       "      <td>10.0</td>\n",
       "    </tr>\n",
       "    <tr>\n",
       "      <th>1</th>\n",
       "      <td>0</td>\n",
       "      <td>107</td>\n",
       "      <td>1</td>\n",
       "      <td>1</td>\n",
       "      <td>3.70</td>\n",
       "      <td>1</td>\n",
       "      <td>161.6</td>\n",
       "      <td>123</td>\n",
       "      <td>82.0</td>\n",
       "      <td>9.78</td>\n",
       "      <td>13.7</td>\n",
       "    </tr>\n",
       "    <tr>\n",
       "      <th>2</th>\n",
       "      <td>0</td>\n",
       "      <td>137</td>\n",
       "      <td>1</td>\n",
       "      <td>0</td>\n",
       "      <td>0.00</td>\n",
       "      <td>0</td>\n",
       "      <td>243.4</td>\n",
       "      <td>114</td>\n",
       "      <td>52.0</td>\n",
       "      <td>6.06</td>\n",
       "      <td>12.2</td>\n",
       "    </tr>\n",
       "    <tr>\n",
       "      <th>3</th>\n",
       "      <td>0</td>\n",
       "      <td>84</td>\n",
       "      <td>0</td>\n",
       "      <td>0</td>\n",
       "      <td>0.00</td>\n",
       "      <td>2</td>\n",
       "      <td>299.4</td>\n",
       "      <td>71</td>\n",
       "      <td>57.0</td>\n",
       "      <td>3.10</td>\n",
       "      <td>6.6</td>\n",
       "    </tr>\n",
       "    <tr>\n",
       "      <th>4</th>\n",
       "      <td>0</td>\n",
       "      <td>75</td>\n",
       "      <td>0</td>\n",
       "      <td>0</td>\n",
       "      <td>0.00</td>\n",
       "      <td>3</td>\n",
       "      <td>166.7</td>\n",
       "      <td>113</td>\n",
       "      <td>41.0</td>\n",
       "      <td>7.42</td>\n",
       "      <td>10.1</td>\n",
       "    </tr>\n",
       "    <tr>\n",
       "      <th>...</th>\n",
       "      <td>...</td>\n",
       "      <td>...</td>\n",
       "      <td>...</td>\n",
       "      <td>...</td>\n",
       "      <td>...</td>\n",
       "      <td>...</td>\n",
       "      <td>...</td>\n",
       "      <td>...</td>\n",
       "      <td>...</td>\n",
       "      <td>...</td>\n",
       "      <td>...</td>\n",
       "    </tr>\n",
       "    <tr>\n",
       "      <th>3328</th>\n",
       "      <td>0</td>\n",
       "      <td>192</td>\n",
       "      <td>1</td>\n",
       "      <td>1</td>\n",
       "      <td>2.67</td>\n",
       "      <td>2</td>\n",
       "      <td>156.2</td>\n",
       "      <td>77</td>\n",
       "      <td>71.7</td>\n",
       "      <td>10.78</td>\n",
       "      <td>9.9</td>\n",
       "    </tr>\n",
       "    <tr>\n",
       "      <th>3329</th>\n",
       "      <td>0</td>\n",
       "      <td>68</td>\n",
       "      <td>1</td>\n",
       "      <td>0</td>\n",
       "      <td>0.34</td>\n",
       "      <td>3</td>\n",
       "      <td>231.1</td>\n",
       "      <td>57</td>\n",
       "      <td>56.4</td>\n",
       "      <td>7.67</td>\n",
       "      <td>9.6</td>\n",
       "    </tr>\n",
       "    <tr>\n",
       "      <th>3330</th>\n",
       "      <td>0</td>\n",
       "      <td>28</td>\n",
       "      <td>1</td>\n",
       "      <td>0</td>\n",
       "      <td>0.00</td>\n",
       "      <td>2</td>\n",
       "      <td>180.8</td>\n",
       "      <td>109</td>\n",
       "      <td>56.0</td>\n",
       "      <td>14.44</td>\n",
       "      <td>14.1</td>\n",
       "    </tr>\n",
       "    <tr>\n",
       "      <th>3331</th>\n",
       "      <td>0</td>\n",
       "      <td>184</td>\n",
       "      <td>0</td>\n",
       "      <td>0</td>\n",
       "      <td>0.00</td>\n",
       "      <td>2</td>\n",
       "      <td>213.8</td>\n",
       "      <td>105</td>\n",
       "      <td>50.0</td>\n",
       "      <td>7.98</td>\n",
       "      <td>5.0</td>\n",
       "    </tr>\n",
       "    <tr>\n",
       "      <th>3332</th>\n",
       "      <td>0</td>\n",
       "      <td>74</td>\n",
       "      <td>1</td>\n",
       "      <td>1</td>\n",
       "      <td>3.70</td>\n",
       "      <td>0</td>\n",
       "      <td>234.4</td>\n",
       "      <td>113</td>\n",
       "      <td>100.0</td>\n",
       "      <td>13.30</td>\n",
       "      <td>13.7</td>\n",
       "    </tr>\n",
       "  </tbody>\n",
       "</table>\n",
       "<p>3333 rows × 11 columns</p>\n",
       "</div>"
      ],
      "text/plain": [
       "      Leave  MemberWeeks  NewContract  IsData  DataAmount  Callcenter  \\\n",
       "0         0          128            1       1        2.70           1   \n",
       "1         0          107            1       1        3.70           1   \n",
       "2         0          137            1       0        0.00           0   \n",
       "3         0           84            0       0        0.00           2   \n",
       "4         0           75            0       0        0.00           3   \n",
       "...     ...          ...          ...     ...         ...         ...   \n",
       "3328      0          192            1       1        2.67           2   \n",
       "3329      0           68            1       0        0.34           3   \n",
       "3330      0           28            1       0        0.00           2   \n",
       "3331      0          184            0       0        0.00           2   \n",
       "3332      0           74            1       1        3.70           0   \n",
       "\n",
       "      CalMins  CalCounts  MonthlyFee  OverFee  RoamingMin  \n",
       "0       265.1        110        89.0     9.87        10.0  \n",
       "1       161.6        123        82.0     9.78        13.7  \n",
       "2       243.4        114        52.0     6.06        12.2  \n",
       "3       299.4         71        57.0     3.10         6.6  \n",
       "4       166.7        113        41.0     7.42        10.1  \n",
       "...       ...        ...         ...      ...         ...  \n",
       "3328    156.2         77        71.7    10.78         9.9  \n",
       "3329    231.1         57        56.4     7.67         9.6  \n",
       "3330    180.8        109        56.0    14.44        14.1  \n",
       "3331    213.8        105        50.0     7.98         5.0  \n",
       "3332    234.4        113       100.0    13.30        13.7  \n",
       "\n",
       "[3333 rows x 11 columns]"
      ]
     },
     "execution_count": 3,
     "metadata": {},
     "output_type": "execute_result"
    }
   ],
   "source": [
    "phone                       # 일단, telco 데이터는 이런 구조로 되어있네요. 3333명의 고객정보가 들어있습니다."
   ]
  },
  {
   "cell_type": "code",
   "execution_count": 4,
   "metadata": {},
   "outputs": [
    {
     "name": "stdout",
     "output_type": "stream",
     "text": [
      "<class 'pandas.core.frame.DataFrame'>\n",
      "RangeIndex: 3333 entries, 0 to 3332\n",
      "Data columns (total 11 columns):\n",
      " #   Column       Non-Null Count  Dtype  \n",
      "---  ------       --------------  -----  \n",
      " 0   Leave        3333 non-null   int64  \n",
      " 1   MemberWeeks  3333 non-null   int64  \n",
      " 2   NewContract  3333 non-null   int64  \n",
      " 3   IsData       3333 non-null   int64  \n",
      " 4   DataAmount   3333 non-null   float64\n",
      " 5   Callcenter   3333 non-null   int64  \n",
      " 6   CalMins      3333 non-null   float64\n",
      " 7   CalCounts    3333 non-null   int64  \n",
      " 8   MonthlyFee   3333 non-null   float64\n",
      " 9   OverFee      3333 non-null   float64\n",
      " 10  RoamingMin   3333 non-null   float64\n",
      "dtypes: float64(5), int64(6)\n",
      "memory usage: 286.6 KB\n"
     ]
    }
   ],
   "source": [
    "phone.info()"
   ]
  },
  {
   "cell_type": "code",
   "execution_count": 5,
   "metadata": {},
   "outputs": [
    {
     "data": {
      "text/plain": [
       "Leave          0\n",
       "MemberWeeks    0\n",
       "NewContract    0\n",
       "IsData         0\n",
       "DataAmount     0\n",
       "Callcenter     0\n",
       "CalMins        0\n",
       "CalCounts      0\n",
       "MonthlyFee     0\n",
       "OverFee        0\n",
       "RoamingMin     0\n",
       "dtype: int64"
      ]
     },
     "execution_count": 5,
     "metadata": {},
     "output_type": "execute_result"
    }
   ],
   "source": [
    "phone.isna().sum()          # 결측치는 없군요."
   ]
  },
  {
   "cell_type": "code",
   "execution_count": 6,
   "metadata": {},
   "outputs": [
    {
     "data": {
      "text/plain": [
       "9"
      ]
     },
     "execution_count": 6,
     "metadata": {},
     "output_type": "execute_result"
    }
   ],
   "source": [
    "phone.Callcenter.max()         # int 8로 바꿔줍니다."
   ]
  },
  {
   "cell_type": "code",
   "execution_count": 7,
   "metadata": {},
   "outputs": [
    {
     "data": {
      "text/plain": [
       "0"
      ]
     },
     "execution_count": 7,
     "metadata": {},
     "output_type": "execute_result"
    }
   ],
   "source": [
    "phone.Callcenter.min()"
   ]
  },
  {
   "cell_type": "code",
   "execution_count": 8,
   "metadata": {},
   "outputs": [
    {
     "data": {
      "text/plain": [
       "243"
      ]
     },
     "execution_count": 8,
     "metadata": {},
     "output_type": "execute_result"
    }
   ],
   "source": [
    "phone.MemberWeeks.max()       # unsigned int 8 : 0~255"
   ]
  },
  {
   "cell_type": "code",
   "execution_count": 9,
   "metadata": {},
   "outputs": [
    {
     "data": {
      "text/plain": [
       "1"
      ]
     },
     "execution_count": 9,
     "metadata": {},
     "output_type": "execute_result"
    }
   ],
   "source": [
    "phone.MemberWeeks.min()"
   ]
  },
  {
   "cell_type": "code",
   "execution_count": 10,
   "metadata": {},
   "outputs": [
    {
     "data": {
      "text/plain": [
       "5.4"
      ]
     },
     "execution_count": 10,
     "metadata": {},
     "output_type": "execute_result"
    }
   ],
   "source": [
    "phone.DataAmount.max()        # float 8 로"
   ]
  },
  {
   "cell_type": "code",
   "execution_count": 11,
   "metadata": {},
   "outputs": [
    {
     "data": {
      "text/plain": [
       "0.0"
      ]
     },
     "execution_count": 11,
     "metadata": {},
     "output_type": "execute_result"
    }
   ],
   "source": [
    "phone.DataAmount.min()"
   ]
  },
  {
   "cell_type": "code",
   "execution_count": 12,
   "metadata": {},
   "outputs": [
    {
     "data": {
      "text/plain": [
       "350.8"
      ]
     },
     "execution_count": 12,
     "metadata": {},
     "output_type": "execute_result"
    }
   ],
   "source": [
    "phone.CalMins.max()           # float 16 으로"
   ]
  },
  {
   "cell_type": "code",
   "execution_count": 13,
   "metadata": {},
   "outputs": [
    {
     "data": {
      "text/plain": [
       "0.0"
      ]
     },
     "execution_count": 13,
     "metadata": {},
     "output_type": "execute_result"
    }
   ],
   "source": [
    "phone.CalMins.min()"
   ]
  },
  {
   "cell_type": "code",
   "execution_count": 14,
   "metadata": {},
   "outputs": [
    {
     "data": {
      "text/plain": [
       "165"
      ]
     },
     "execution_count": 14,
     "metadata": {},
     "output_type": "execute_result"
    }
   ],
   "source": [
    "phone.CalCounts.max()        # 이것도 unsigned int 8"
   ]
  },
  {
   "cell_type": "code",
   "execution_count": 15,
   "metadata": {},
   "outputs": [
    {
     "data": {
      "text/plain": [
       "0"
      ]
     },
     "execution_count": 15,
     "metadata": {},
     "output_type": "execute_result"
    }
   ],
   "source": [
    "phone.CalCounts.min()"
   ]
  },
  {
   "cell_type": "code",
   "execution_count": 16,
   "metadata": {},
   "outputs": [
    {
     "data": {
      "text/plain": [
       "111.3"
      ]
     },
     "execution_count": 16,
     "metadata": {},
     "output_type": "execute_result"
    }
   ],
   "source": [
    "phone.MonthlyFee.max()       # flaot 16"
   ]
  },
  {
   "cell_type": "code",
   "execution_count": 17,
   "metadata": {},
   "outputs": [
    {
     "data": {
      "text/plain": [
       "14.0"
      ]
     },
     "execution_count": 17,
     "metadata": {},
     "output_type": "execute_result"
    }
   ],
   "source": [
    "phone.MonthlyFee.min()"
   ]
  },
  {
   "cell_type": "code",
   "execution_count": 18,
   "metadata": {},
   "outputs": [
    {
     "data": {
      "text/plain": [
       "18.19"
      ]
     },
     "execution_count": 18,
     "metadata": {},
     "output_type": "execute_result"
    }
   ],
   "source": [
    "phone.OverFee.max()         # flaot 16"
   ]
  },
  {
   "cell_type": "code",
   "execution_count": 19,
   "metadata": {},
   "outputs": [
    {
     "data": {
      "text/plain": [
       "0.0"
      ]
     },
     "execution_count": 19,
     "metadata": {},
     "output_type": "execute_result"
    }
   ],
   "source": [
    "phone.OverFee.min()"
   ]
  },
  {
   "cell_type": "code",
   "execution_count": 20,
   "metadata": {},
   "outputs": [
    {
     "data": {
      "text/plain": [
       "20.0"
      ]
     },
     "execution_count": 20,
     "metadata": {},
     "output_type": "execute_result"
    }
   ],
   "source": [
    "phone.RoamingMin.max()      # flaot 16"
   ]
  },
  {
   "cell_type": "code",
   "execution_count": 21,
   "metadata": {},
   "outputs": [
    {
     "data": {
      "text/plain": [
       "0.0"
      ]
     },
     "execution_count": 21,
     "metadata": {},
     "output_type": "execute_result"
    }
   ],
   "source": [
    "phone.RoamingMin.min()"
   ]
  },
  {
   "cell_type": "markdown",
   "metadata": {},
   "source": [
    "##### < 이전 메모리 점검 >    "
   ]
  },
  {
   "cell_type": "code",
   "execution_count": 22,
   "metadata": {},
   "outputs": [
    {
     "name": "stdout",
     "output_type": "stream",
     "text": [
      "<class 'pandas.core.frame.DataFrame'>\n",
      "RangeIndex: 3333 entries, 0 to 3332\n",
      "Data columns (total 11 columns):\n",
      " #   Column       Non-Null Count  Dtype  \n",
      "---  ------       --------------  -----  \n",
      " 0   Leave        3333 non-null   int64  \n",
      " 1   MemberWeeks  3333 non-null   int64  \n",
      " 2   NewContract  3333 non-null   int64  \n",
      " 3   IsData       3333 non-null   int64  \n",
      " 4   DataAmount   3333 non-null   float64\n",
      " 5   Callcenter   3333 non-null   int64  \n",
      " 6   CalMins      3333 non-null   float64\n",
      " 7   CalCounts    3333 non-null   int64  \n",
      " 8   MonthlyFee   3333 non-null   float64\n",
      " 9   OverFee      3333 non-null   float64\n",
      " 10  RoamingMin   3333 non-null   float64\n",
      "dtypes: float64(5), int64(6)\n",
      "memory usage: 286.6 KB\n"
     ]
    }
   ],
   "source": [
    "phone.info()       # 263.9 KB"
   ]
  },
  {
   "cell_type": "markdown",
   "metadata": {},
   "source": [
    "##### 일단, leave, NewContract, IsData 세 항목들은 binary 형태이기 때문에, category 형식으로 바꿔주겠습니다.\n",
    "##### 나머지 8가지 항목들도, 아무리 커봐야 1000단위는 안 될 것 같아서, 적당하게 줄여주겠습니다."
   ]
  },
  {
   "cell_type": "code",
   "execution_count": 23,
   "metadata": {},
   "outputs": [],
   "source": [
    "phone.Leave = phone.Leave.astype('int8')\n",
    "phone.NewContract = phone.NewContract.astype('int8')\n",
    "phone.IsData = phone.IsData.astype('int8')\n",
    "\n",
    "phone.MemberWeeks = phone.MemberWeeks.astype('uint8')  # int 8로 해줬는데, 범위를 초과해서, 에러가 발생했습니다. uint8 로 합니다!!\n",
    "phone.Callcenter = phone.Callcenter.astype('uint8')    # 마찬가지! \n",
    "phone.DataAmount = phone.DataAmount.astype('float16')  # float8 안됨..\n",
    "phone.CalMins = phone.CalMins.astype('float16')\n",
    "phone.CalCounts = phone.CalCounts.astype('uint8')\n",
    "phone.MonthlyFee = phone.MonthlyFee.astype('float16')\n",
    "phone.OverFee = phone.OverFee.astype('float16')    # float8 안됨..\n",
    "phone.RoamingMin = phone.RoamingMin.astype('float16')  # float8 안됨.."
   ]
  },
  {
   "cell_type": "markdown",
   "metadata": {},
   "source": [
    "##### < 이후 메모리 점검 >    "
   ]
  },
  {
   "cell_type": "code",
   "execution_count": 24,
   "metadata": {},
   "outputs": [
    {
     "name": "stdout",
     "output_type": "stream",
     "text": [
      "<class 'pandas.core.frame.DataFrame'>\n",
      "RangeIndex: 3333 entries, 0 to 3332\n",
      "Data columns (total 11 columns):\n",
      " #   Column       Non-Null Count  Dtype  \n",
      "---  ------       --------------  -----  \n",
      " 0   Leave        3333 non-null   int8   \n",
      " 1   MemberWeeks  3333 non-null   uint8  \n",
      " 2   NewContract  3333 non-null   int8   \n",
      " 3   IsData       3333 non-null   int8   \n",
      " 4   DataAmount   3333 non-null   float16\n",
      " 5   Callcenter   3333 non-null   uint8  \n",
      " 6   CalMins      3333 non-null   float16\n",
      " 7   CalCounts    3333 non-null   uint8  \n",
      " 8   MonthlyFee   3333 non-null   float16\n",
      " 9   OverFee      3333 non-null   float16\n",
      " 10  RoamingMin   3333 non-null   float16\n",
      "dtypes: float16(5), int8(3), uint8(3)\n",
      "memory usage: 52.2 KB\n"
     ]
    }
   ],
   "source": [
    "phone.info()     # 52.5 KB    5배 정도 줄었네요 ^^"
   ]
  },
  {
   "cell_type": "code",
   "execution_count": 25,
   "metadata": {},
   "outputs": [
    {
     "data": {
      "text/plain": [
       "0    0.855086\n",
       "1    0.144914\n",
       "Name: Leave, dtype: float64"
      ]
     },
     "execution_count": 25,
     "metadata": {},
     "output_type": "execute_result"
    }
   ],
   "source": [
    "phone.Leave.value_counts(normalize=True)     # (가입해지 == 1) 고객이 약 15% 나 되는 것을 확인했습니다."
   ]
  },
  {
   "cell_type": "code",
   "execution_count": 26,
   "metadata": {},
   "outputs": [
    {
     "data": {
      "text/plain": [
       "<AxesSubplot:ylabel='Frequency'>"
      ]
     },
     "execution_count": 26,
     "metadata": {},
     "output_type": "execute_result"
    },
    {
     "data": {
      "image/png": "[encoded data removed]",
      "text/plain": [
       "<Figure size 432x288 with 1 Axes>"
      ]
     },
     "metadata": {
      "needs_background": "light"
     },
     "output_type": "display_data"
    }
   ],
   "source": [
    "phone.Leave.plot(kind='hist')"
   ]
  },
  {
   "cell_type": "code",
   "execution_count": 27,
   "metadata": {},
   "outputs": [
    {
     "data": {
      "text/plain": [
       "1    0.90309\n",
       "0    0.09691\n",
       "Name: NewContract, dtype: float64"
      ]
     },
     "execution_count": 27,
     "metadata": {},
     "output_type": "execute_result"
    }
   ],
   "source": [
    "phone.NewContract.value_counts(normalize=True)"
   ]
  },
  {
   "cell_type": "code",
   "execution_count": 28,
   "metadata": {},
   "outputs": [
    {
     "data": {
      "text/plain": [
       "<AxesSubplot:ylabel='Frequency'>"
      ]
     },
     "execution_count": 28,
     "metadata": {},
     "output_type": "execute_result"
    },
    {
     "data": {
      "image/png": "[encoded data removed]",
      "text/plain": [
       "<Figure size 432x288 with 1 Axes>"
      ]
     },
     "metadata": {
      "needs_background": "light"
     },
     "output_type": "display_data"
    }
   ],
   "source": [
    "phone.NewContract.plot(kind='hist')"
   ]
  },
  {
   "cell_type": "markdown",
   "metadata": {},
   "source": [
    "### NewContract (가입갱신 == 1) 고객은 약 90% 가 되네요. 왜 가입해지한 고객과 다를까요?\n",
    "### 집고 넘어가야할 것이, NewContract 는 (갱신을 했냐, 안했냐) 가 아니라,\n",
    "## ★★★ (신규 고객이냐, 갱신 고객이냐) 를 구분해주는 것 같습니다."
   ]
  },
  {
   "cell_type": "code",
   "execution_count": 29,
   "metadata": {},
   "outputs": [
    {
     "data": {
      "text/plain": [
       "105    0.012901\n",
       "87     0.012601\n",
       "93     0.012001\n",
       "101    0.012001\n",
       "90     0.011701\n",
       "         ...   \n",
       "191    0.000300\n",
       "199    0.000300\n",
       "215    0.000300\n",
       "221    0.000300\n",
       "2      0.000300\n",
       "Name: MemberWeeks, Length: 212, dtype: float64"
      ]
     },
     "execution_count": 29,
     "metadata": {},
     "output_type": "execute_result"
    }
   ],
   "source": [
    "phone.MemberWeeks.value_counts(normalize=True)    # 비율  # 이제 마이너스 안 나오네요! 아까는 int8로 해줘서, 범위를 초과하는 바람에, 마이너스 값이 나왔습니다."
   ]
  },
  {
   "cell_type": "code",
   "execution_count": 30,
   "metadata": {},
   "outputs": [
    {
     "data": {
      "text/plain": [
       "105    43\n",
       "87     42\n",
       "93     40\n",
       "101    40\n",
       "90     39\n",
       "       ..\n",
       "191     1\n",
       "199     1\n",
       "215     1\n",
       "221     1\n",
       "2       1\n",
       "Name: MemberWeeks, Length: 212, dtype: int64"
      ]
     },
     "execution_count": 30,
     "metadata": {},
     "output_type": "execute_result"
    }
   ],
   "source": [
    "phone.MemberWeeks.value_counts(normalize=False)    # 갯수"
   ]
  },
  {
   "cell_type": "code",
   "execution_count": 31,
   "metadata": {},
   "outputs": [
    {
     "data": {
      "text/plain": [
       "1"
      ]
     },
     "execution_count": 31,
     "metadata": {},
     "output_type": "execute_result"
    }
   ],
   "source": [
    "phone.MemberWeeks.min()"
   ]
  },
  {
   "cell_type": "code",
   "execution_count": 32,
   "metadata": {},
   "outputs": [
    {
     "data": {
      "text/plain": [
       "212"
      ]
     },
     "execution_count": 32,
     "metadata": {},
     "output_type": "execute_result"
    }
   ],
   "source": [
    "phone.MemberWeeks.nunique()"
   ]
  },
  {
   "cell_type": "code",
   "execution_count": 33,
   "metadata": {},
   "outputs": [
    {
     "data": {
      "text/plain": [
       "0       128\n",
       "1       107\n",
       "2       137\n",
       "3        84\n",
       "4        75\n",
       "       ... \n",
       "3328    192\n",
       "3329     68\n",
       "3330     28\n",
       "3331    184\n",
       "3332     74\n",
       "Name: MemberWeeks, Length: 3333, dtype: uint8"
      ]
     },
     "execution_count": 33,
     "metadata": {},
     "output_type": "execute_result"
    }
   ],
   "source": [
    "phone.MemberWeeks"
   ]
  },
  {
   "cell_type": "code",
   "execution_count": 34,
   "metadata": {},
   "outputs": [
    {
     "data": {
      "text/plain": [
       "<AxesSubplot:ylabel='Frequency'>"
      ]
     },
     "execution_count": 34,
     "metadata": {},
     "output_type": "execute_result"
    },
    {
     "data": {
      "image/png": "[encoded data removed]",
      "text/plain": [
       "<Figure size 432x288 with 1 Axes>"
      ]
     },
     "metadata": {
      "needs_background": "light"
     },
     "output_type": "display_data"
    }
   ],
   "source": [
    "phone.MemberWeeks.plot(kind='hist')     "
   ]
  },
  {
   "cell_type": "markdown",
   "metadata": {},
   "source": [
    "### 가입기간 평균은 100주 에 몰려있네요.\n"
   ]
  },
  {
   "cell_type": "markdown",
   "metadata": {},
   "source": [
    "### ★ 이제, old new ing 를 나누기위해, 데이터를 살펴보겠습니다."
   ]
  },
  {
   "cell_type": "code",
   "execution_count": 35,
   "metadata": {},
   "outputs": [
    {
     "name": "stderr",
     "output_type": "stream",
     "text": [
      "<ipython-input-35-64c09ad26de2>:1: UserWarning: Boolean Series key will be reindexed to match DataFrame index.\n",
      "  phone[phone['Leave'] == 0][phone['NewContract'] == 0]      # (가입해지 X) && ()\n"
     ]
    },
    {
     "data": {
      "text/html": [
       "<div>\n",
       "<style scoped>\n",
       "    .dataframe tbody tr th:only-of-type {\n",
       "        vertical-align: middle;\n",
       "    }\n",
       "\n",
       "    .dataframe tbody tr th {\n",
       "        vertical-align: top;\n",
       "    }\n",
       "\n",
       "    .dataframe thead th {\n",
       "        text-align: right;\n",
       "    }\n",
       "</style>\n",
       "<table border=\"1\" class=\"dataframe\">\n",
       "  <thead>\n",
       "    <tr style=\"text-align: right;\">\n",
       "      <th></th>\n",
       "      <th>Leave</th>\n",
       "      <th>MemberWeeks</th>\n",
       "      <th>NewContract</th>\n",
       "      <th>IsData</th>\n",
       "      <th>DataAmount</th>\n",
       "      <th>Callcenter</th>\n",
       "      <th>CalMins</th>\n",
       "      <th>CalCounts</th>\n",
       "      <th>MonthlyFee</th>\n",
       "      <th>OverFee</th>\n",
       "      <th>RoamingMin</th>\n",
       "    </tr>\n",
       "  </thead>\n",
       "  <tbody>\n",
       "    <tr>\n",
       "      <th>3</th>\n",
       "      <td>0</td>\n",
       "      <td>84</td>\n",
       "      <td>0</td>\n",
       "      <td>0</td>\n",
       "      <td>0.000000</td>\n",
       "      <td>2</td>\n",
       "      <td>299.500</td>\n",
       "      <td>71</td>\n",
       "      <td>57.00000</td>\n",
       "      <td>3.099609</td>\n",
       "      <td>6.601562</td>\n",
       "    </tr>\n",
       "    <tr>\n",
       "      <th>4</th>\n",
       "      <td>0</td>\n",
       "      <td>75</td>\n",
       "      <td>0</td>\n",
       "      <td>0</td>\n",
       "      <td>0.000000</td>\n",
       "      <td>3</td>\n",
       "      <td>166.750</td>\n",
       "      <td>113</td>\n",
       "      <td>41.00000</td>\n",
       "      <td>7.421875</td>\n",
       "      <td>10.101562</td>\n",
       "    </tr>\n",
       "    <tr>\n",
       "      <th>5</th>\n",
       "      <td>0</td>\n",
       "      <td>118</td>\n",
       "      <td>0</td>\n",
       "      <td>0</td>\n",
       "      <td>0.000000</td>\n",
       "      <td>0</td>\n",
       "      <td>223.375</td>\n",
       "      <td>98</td>\n",
       "      <td>57.00000</td>\n",
       "      <td>11.031250</td>\n",
       "      <td>6.300781</td>\n",
       "    </tr>\n",
       "    <tr>\n",
       "      <th>7</th>\n",
       "      <td>0</td>\n",
       "      <td>147</td>\n",
       "      <td>0</td>\n",
       "      <td>0</td>\n",
       "      <td>0.000000</td>\n",
       "      <td>0</td>\n",
       "      <td>157.000</td>\n",
       "      <td>79</td>\n",
       "      <td>36.00000</td>\n",
       "      <td>5.160156</td>\n",
       "      <td>7.101562</td>\n",
       "    </tr>\n",
       "    <tr>\n",
       "      <th>9</th>\n",
       "      <td>0</td>\n",
       "      <td>141</td>\n",
       "      <td>0</td>\n",
       "      <td>1</td>\n",
       "      <td>3.019531</td>\n",
       "      <td>0</td>\n",
       "      <td>258.500</td>\n",
       "      <td>84</td>\n",
       "      <td>93.18750</td>\n",
       "      <td>11.101562</td>\n",
       "      <td>11.203125</td>\n",
       "    </tr>\n",
       "    <tr>\n",
       "      <th>...</th>\n",
       "      <td>...</td>\n",
       "      <td>...</td>\n",
       "      <td>...</td>\n",
       "      <td>...</td>\n",
       "      <td>...</td>\n",
       "      <td>...</td>\n",
       "      <td>...</td>\n",
       "      <td>...</td>\n",
       "      <td>...</td>\n",
       "      <td>...</td>\n",
       "      <td>...</td>\n",
       "    </tr>\n",
       "    <tr>\n",
       "      <th>3269</th>\n",
       "      <td>0</td>\n",
       "      <td>117</td>\n",
       "      <td>0</td>\n",
       "      <td>0</td>\n",
       "      <td>0.000000</td>\n",
       "      <td>1</td>\n",
       "      <td>198.375</td>\n",
       "      <td>121</td>\n",
       "      <td>55.00000</td>\n",
       "      <td>12.476562</td>\n",
       "      <td>10.500000</td>\n",
       "    </tr>\n",
       "    <tr>\n",
       "      <th>3302</th>\n",
       "      <td>0</td>\n",
       "      <td>75</td>\n",
       "      <td>0</td>\n",
       "      <td>0</td>\n",
       "      <td>0.290039</td>\n",
       "      <td>1</td>\n",
       "      <td>153.250</td>\n",
       "      <td>78</td>\n",
       "      <td>46.90625</td>\n",
       "      <td>10.539062</td>\n",
       "      <td>7.800781</td>\n",
       "    </tr>\n",
       "    <tr>\n",
       "      <th>3309</th>\n",
       "      <td>0</td>\n",
       "      <td>100</td>\n",
       "      <td>0</td>\n",
       "      <td>0</td>\n",
       "      <td>0.000000</td>\n",
       "      <td>4</td>\n",
       "      <td>219.375</td>\n",
       "      <td>112</td>\n",
       "      <td>57.00000</td>\n",
       "      <td>11.289062</td>\n",
       "      <td>12.000000</td>\n",
       "    </tr>\n",
       "    <tr>\n",
       "      <th>3317</th>\n",
       "      <td>0</td>\n",
       "      <td>163</td>\n",
       "      <td>0</td>\n",
       "      <td>0</td>\n",
       "      <td>0.000000</td>\n",
       "      <td>1</td>\n",
       "      <td>197.250</td>\n",
       "      <td>90</td>\n",
       "      <td>50.00000</td>\n",
       "      <td>9.429688</td>\n",
       "      <td>7.800781</td>\n",
       "    </tr>\n",
       "    <tr>\n",
       "      <th>3331</th>\n",
       "      <td>0</td>\n",
       "      <td>184</td>\n",
       "      <td>0</td>\n",
       "      <td>0</td>\n",
       "      <td>0.000000</td>\n",
       "      <td>2</td>\n",
       "      <td>213.750</td>\n",
       "      <td>105</td>\n",
       "      <td>50.00000</td>\n",
       "      <td>7.980469</td>\n",
       "      <td>5.000000</td>\n",
       "    </tr>\n",
       "  </tbody>\n",
       "</table>\n",
       "<p>186 rows × 11 columns</p>\n",
       "</div>"
      ],
      "text/plain": [
       "      Leave  MemberWeeks  NewContract  IsData  DataAmount  Callcenter  \\\n",
       "3         0           84            0       0    0.000000           2   \n",
       "4         0           75            0       0    0.000000           3   \n",
       "5         0          118            0       0    0.000000           0   \n",
       "7         0          147            0       0    0.000000           0   \n",
       "9         0          141            0       1    3.019531           0   \n",
       "...     ...          ...          ...     ...         ...         ...   \n",
       "3269      0          117            0       0    0.000000           1   \n",
       "3302      0           75            0       0    0.290039           1   \n",
       "3309      0          100            0       0    0.000000           4   \n",
       "3317      0          163            0       0    0.000000           1   \n",
       "3331      0          184            0       0    0.000000           2   \n",
       "\n",
       "      CalMins  CalCounts  MonthlyFee    OverFee  RoamingMin  \n",
       "3     299.500         71    57.00000   3.099609    6.601562  \n",
       "4     166.750        113    41.00000   7.421875   10.101562  \n",
       "5     223.375         98    57.00000  11.031250    6.300781  \n",
       "7     157.000         79    36.00000   5.160156    7.101562  \n",
       "9     258.500         84    93.18750  11.101562   11.203125  \n",
       "...       ...        ...         ...        ...         ...  \n",
       "3269  198.375        121    55.00000  12.476562   10.500000  \n",
       "3302  153.250         78    46.90625  10.539062    7.800781  \n",
       "3309  219.375        112    57.00000  11.289062   12.000000  \n",
       "3317  197.250         90    50.00000   9.429688    7.800781  \n",
       "3331  213.750        105    50.00000   7.980469    5.000000  \n",
       "\n",
       "[186 rows x 11 columns]"
      ]
     },
     "execution_count": 35,
     "metadata": {},
     "output_type": "execute_result"
    }
   ],
   "source": [
    "phone[phone['Leave'] == 0][phone['NewContract'] == 0]      # (가입해지 X) && ()"
   ]
  },
  {
   "cell_type": "markdown",
   "metadata": {},
   "source": [
    "#### (Leave = 0 즉, 가입해지 하지않고) && (NewContract = 1, 가입갱신을 한)  사람들을 뽑아봤습니다."
   ]
  },
  {
   "cell_type": "markdown",
   "metadata": {},
   "source": [
    "## ★★★ 여기서, 중요한 의문이 하나 생깁니다! \n",
    "#### 여기서, 중요하게 고려해야할 사항이 NewContract = (가입갱신) 인데,\n",
    "#### NewContract = 1 이 (신규) 고, 0 이 (갱신) 이냐?\n",
    "#### 아니면, NewContract = 0 이 (신규) 이고, 1 이 (갱신) 이냐?"
   ]
  },
  {
   "cell_type": "markdown",
   "metadata": {},
   "source": [
    "## ★\n",
    "#### 처음에는, 제가 (Leave = 0)(가입해지 X) 이면, (NewContract = 1)(가입갱신여부 O)\n",
    "#### 또, (Leave = 1)(가입해지 O) 이면, (NewContract = 0)(가입갱신여부 X) 라고 생각했습니다...\n",
    "### ★ 그러나, (Leave) (NewContract) (MemberWeeks) 는 아예 별개로 생각해야하는 칼럼들이었습니다!\n",
    "#### 즉,"
   ]
  },
  {
   "cell_type": "code",
   "execution_count": 36,
   "metadata": {},
   "outputs": [
    {
     "name": "stderr",
     "output_type": "stream",
     "text": [
      "<ipython-input-36-3cdb5d2fce7f>:1: UserWarning: Boolean Series key will be reindexed to match DataFrame index.\n",
      "  phone[phone['Leave'] == 0][phone['NewContract'] == 0]                 # Leave = 0 인데,  NewContract = 0 인 것도 있음.\n"
     ]
    },
    {
     "data": {
      "text/html": [
       "<div>\n",
       "<style scoped>\n",
       "    .dataframe tbody tr th:only-of-type {\n",
       "        vertical-align: middle;\n",
       "    }\n",
       "\n",
       "    .dataframe tbody tr th {\n",
       "        vertical-align: top;\n",
       "    }\n",
       "\n",
       "    .dataframe thead th {\n",
       "        text-align: right;\n",
       "    }\n",
       "</style>\n",
       "<table border=\"1\" class=\"dataframe\">\n",
       "  <thead>\n",
       "    <tr style=\"text-align: right;\">\n",
       "      <th></th>\n",
       "      <th>Leave</th>\n",
       "      <th>MemberWeeks</th>\n",
       "      <th>NewContract</th>\n",
       "      <th>IsData</th>\n",
       "      <th>DataAmount</th>\n",
       "      <th>Callcenter</th>\n",
       "      <th>CalMins</th>\n",
       "      <th>CalCounts</th>\n",
       "      <th>MonthlyFee</th>\n",
       "      <th>OverFee</th>\n",
       "      <th>RoamingMin</th>\n",
       "    </tr>\n",
       "  </thead>\n",
       "  <tbody>\n",
       "    <tr>\n",
       "      <th>3</th>\n",
       "      <td>0</td>\n",
       "      <td>84</td>\n",
       "      <td>0</td>\n",
       "      <td>0</td>\n",
       "      <td>0.000000</td>\n",
       "      <td>2</td>\n",
       "      <td>299.500</td>\n",
       "      <td>71</td>\n",
       "      <td>57.00000</td>\n",
       "      <td>3.099609</td>\n",
       "      <td>6.601562</td>\n",
       "    </tr>\n",
       "    <tr>\n",
       "      <th>4</th>\n",
       "      <td>0</td>\n",
       "      <td>75</td>\n",
       "      <td>0</td>\n",
       "      <td>0</td>\n",
       "      <td>0.000000</td>\n",
       "      <td>3</td>\n",
       "      <td>166.750</td>\n",
       "      <td>113</td>\n",
       "      <td>41.00000</td>\n",
       "      <td>7.421875</td>\n",
       "      <td>10.101562</td>\n",
       "    </tr>\n",
       "    <tr>\n",
       "      <th>5</th>\n",
       "      <td>0</td>\n",
       "      <td>118</td>\n",
       "      <td>0</td>\n",
       "      <td>0</td>\n",
       "      <td>0.000000</td>\n",
       "      <td>0</td>\n",
       "      <td>223.375</td>\n",
       "      <td>98</td>\n",
       "      <td>57.00000</td>\n",
       "      <td>11.031250</td>\n",
       "      <td>6.300781</td>\n",
       "    </tr>\n",
       "    <tr>\n",
       "      <th>7</th>\n",
       "      <td>0</td>\n",
       "      <td>147</td>\n",
       "      <td>0</td>\n",
       "      <td>0</td>\n",
       "      <td>0.000000</td>\n",
       "      <td>0</td>\n",
       "      <td>157.000</td>\n",
       "      <td>79</td>\n",
       "      <td>36.00000</td>\n",
       "      <td>5.160156</td>\n",
       "      <td>7.101562</td>\n",
       "    </tr>\n",
       "    <tr>\n",
       "      <th>9</th>\n",
       "      <td>0</td>\n",
       "      <td>141</td>\n",
       "      <td>0</td>\n",
       "      <td>1</td>\n",
       "      <td>3.019531</td>\n",
       "      <td>0</td>\n",
       "      <td>258.500</td>\n",
       "      <td>84</td>\n",
       "      <td>93.18750</td>\n",
       "      <td>11.101562</td>\n",
       "      <td>11.203125</td>\n",
       "    </tr>\n",
       "    <tr>\n",
       "      <th>...</th>\n",
       "      <td>...</td>\n",
       "      <td>...</td>\n",
       "      <td>...</td>\n",
       "      <td>...</td>\n",
       "      <td>...</td>\n",
       "      <td>...</td>\n",
       "      <td>...</td>\n",
       "      <td>...</td>\n",
       "      <td>...</td>\n",
       "      <td>...</td>\n",
       "      <td>...</td>\n",
       "    </tr>\n",
       "    <tr>\n",
       "      <th>3269</th>\n",
       "      <td>0</td>\n",
       "      <td>117</td>\n",
       "      <td>0</td>\n",
       "      <td>0</td>\n",
       "      <td>0.000000</td>\n",
       "      <td>1</td>\n",
       "      <td>198.375</td>\n",
       "      <td>121</td>\n",
       "      <td>55.00000</td>\n",
       "      <td>12.476562</td>\n",
       "      <td>10.500000</td>\n",
       "    </tr>\n",
       "    <tr>\n",
       "      <th>3302</th>\n",
       "      <td>0</td>\n",
       "      <td>75</td>\n",
       "      <td>0</td>\n",
       "      <td>0</td>\n",
       "      <td>0.290039</td>\n",
       "      <td>1</td>\n",
       "      <td>153.250</td>\n",
       "      <td>78</td>\n",
       "      <td>46.90625</td>\n",
       "      <td>10.539062</td>\n",
       "      <td>7.800781</td>\n",
       "    </tr>\n",
       "    <tr>\n",
       "      <th>3309</th>\n",
       "      <td>0</td>\n",
       "      <td>100</td>\n",
       "      <td>0</td>\n",
       "      <td>0</td>\n",
       "      <td>0.000000</td>\n",
       "      <td>4</td>\n",
       "      <td>219.375</td>\n",
       "      <td>112</td>\n",
       "      <td>57.00000</td>\n",
       "      <td>11.289062</td>\n",
       "      <td>12.000000</td>\n",
       "    </tr>\n",
       "    <tr>\n",
       "      <th>3317</th>\n",
       "      <td>0</td>\n",
       "      <td>163</td>\n",
       "      <td>0</td>\n",
       "      <td>0</td>\n",
       "      <td>0.000000</td>\n",
       "      <td>1</td>\n",
       "      <td>197.250</td>\n",
       "      <td>90</td>\n",
       "      <td>50.00000</td>\n",
       "      <td>9.429688</td>\n",
       "      <td>7.800781</td>\n",
       "    </tr>\n",
       "    <tr>\n",
       "      <th>3331</th>\n",
       "      <td>0</td>\n",
       "      <td>184</td>\n",
       "      <td>0</td>\n",
       "      <td>0</td>\n",
       "      <td>0.000000</td>\n",
       "      <td>2</td>\n",
       "      <td>213.750</td>\n",
       "      <td>105</td>\n",
       "      <td>50.00000</td>\n",
       "      <td>7.980469</td>\n",
       "      <td>5.000000</td>\n",
       "    </tr>\n",
       "  </tbody>\n",
       "</table>\n",
       "<p>186 rows × 11 columns</p>\n",
       "</div>"
      ],
      "text/plain": [
       "      Leave  MemberWeeks  NewContract  IsData  DataAmount  Callcenter  \\\n",
       "3         0           84            0       0    0.000000           2   \n",
       "4         0           75            0       0    0.000000           3   \n",
       "5         0          118            0       0    0.000000           0   \n",
       "7         0          147            0       0    0.000000           0   \n",
       "9         0          141            0       1    3.019531           0   \n",
       "...     ...          ...          ...     ...         ...         ...   \n",
       "3269      0          117            0       0    0.000000           1   \n",
       "3302      0           75            0       0    0.290039           1   \n",
       "3309      0          100            0       0    0.000000           4   \n",
       "3317      0          163            0       0    0.000000           1   \n",
       "3331      0          184            0       0    0.000000           2   \n",
       "\n",
       "      CalMins  CalCounts  MonthlyFee    OverFee  RoamingMin  \n",
       "3     299.500         71    57.00000   3.099609    6.601562  \n",
       "4     166.750        113    41.00000   7.421875   10.101562  \n",
       "5     223.375         98    57.00000  11.031250    6.300781  \n",
       "7     157.000         79    36.00000   5.160156    7.101562  \n",
       "9     258.500         84    93.18750  11.101562   11.203125  \n",
       "...       ...        ...         ...        ...         ...  \n",
       "3269  198.375        121    55.00000  12.476562   10.500000  \n",
       "3302  153.250         78    46.90625  10.539062    7.800781  \n",
       "3309  219.375        112    57.00000  11.289062   12.000000  \n",
       "3317  197.250         90    50.00000   9.429688    7.800781  \n",
       "3331  213.750        105    50.00000   7.980469    5.000000  \n",
       "\n",
       "[186 rows x 11 columns]"
      ]
     },
     "execution_count": 36,
     "metadata": {},
     "output_type": "execute_result"
    }
   ],
   "source": [
    "phone[phone['Leave'] == 0][phone['NewContract'] == 0]                 # Leave = 0 인데,  NewContract = 0 인 것도 있음."
   ]
  },
  {
   "cell_type": "code",
   "execution_count": 37,
   "metadata": {},
   "outputs": [
    {
     "name": "stderr",
     "output_type": "stream",
     "text": [
      "<ipython-input-37-b8ea325844c8>:1: UserWarning: Boolean Series key will be reindexed to match DataFrame index.\n",
      "  phone[phone['Leave'] == 1][phone['NewContract'] == 1]                 # Leave = 1 인데,  NewContract = 1 인 것도 있음.\n"
     ]
    },
    {
     "data": {
      "text/html": [
       "<div>\n",
       "<style scoped>\n",
       "    .dataframe tbody tr th:only-of-type {\n",
       "        vertical-align: middle;\n",
       "    }\n",
       "\n",
       "    .dataframe tbody tr th {\n",
       "        vertical-align: top;\n",
       "    }\n",
       "\n",
       "    .dataframe thead th {\n",
       "        text-align: right;\n",
       "    }\n",
       "</style>\n",
       "<table border=\"1\" class=\"dataframe\">\n",
       "  <thead>\n",
       "    <tr style=\"text-align: right;\">\n",
       "      <th></th>\n",
       "      <th>Leave</th>\n",
       "      <th>MemberWeeks</th>\n",
       "      <th>NewContract</th>\n",
       "      <th>IsData</th>\n",
       "      <th>DataAmount</th>\n",
       "      <th>Callcenter</th>\n",
       "      <th>CalMins</th>\n",
       "      <th>CalCounts</th>\n",
       "      <th>MonthlyFee</th>\n",
       "      <th>OverFee</th>\n",
       "      <th>RoamingMin</th>\n",
       "    </tr>\n",
       "  </thead>\n",
       "  <tbody>\n",
       "    <tr>\n",
       "      <th>10</th>\n",
       "      <td>1</td>\n",
       "      <td>65</td>\n",
       "      <td>1</td>\n",
       "      <td>0</td>\n",
       "      <td>0.290039</td>\n",
       "      <td>4</td>\n",
       "      <td>129.12500</td>\n",
       "      <td>137</td>\n",
       "      <td>44.90625</td>\n",
       "      <td>11.429688</td>\n",
       "      <td>12.703125</td>\n",
       "    </tr>\n",
       "    <tr>\n",
       "      <th>15</th>\n",
       "      <td>1</td>\n",
       "      <td>161</td>\n",
       "      <td>1</td>\n",
       "      <td>0</td>\n",
       "      <td>0.000000</td>\n",
       "      <td>4</td>\n",
       "      <td>333.00000</td>\n",
       "      <td>67</td>\n",
       "      <td>84.00000</td>\n",
       "      <td>15.890625</td>\n",
       "      <td>5.398438</td>\n",
       "    </tr>\n",
       "    <tr>\n",
       "      <th>21</th>\n",
       "      <td>1</td>\n",
       "      <td>77</td>\n",
       "      <td>1</td>\n",
       "      <td>0</td>\n",
       "      <td>0.000000</td>\n",
       "      <td>5</td>\n",
       "      <td>62.40625</td>\n",
       "      <td>89</td>\n",
       "      <td>26.00000</td>\n",
       "      <td>8.500000</td>\n",
       "      <td>5.699219</td>\n",
       "    </tr>\n",
       "    <tr>\n",
       "      <th>33</th>\n",
       "      <td>1</td>\n",
       "      <td>12</td>\n",
       "      <td>1</td>\n",
       "      <td>0</td>\n",
       "      <td>0.000000</td>\n",
       "      <td>1</td>\n",
       "      <td>249.62500</td>\n",
       "      <td>118</td>\n",
       "      <td>64.00000</td>\n",
       "      <td>12.617188</td>\n",
       "      <td>11.796875</td>\n",
       "    </tr>\n",
       "    <tr>\n",
       "      <th>48</th>\n",
       "      <td>1</td>\n",
       "      <td>119</td>\n",
       "      <td>1</td>\n",
       "      <td>0</td>\n",
       "      <td>0.000000</td>\n",
       "      <td>5</td>\n",
       "      <td>159.12500</td>\n",
       "      <td>114</td>\n",
       "      <td>47.00000</td>\n",
       "      <td>11.570312</td>\n",
       "      <td>8.796875</td>\n",
       "    </tr>\n",
       "    <tr>\n",
       "      <th>...</th>\n",
       "      <td>...</td>\n",
       "      <td>...</td>\n",
       "      <td>...</td>\n",
       "      <td>...</td>\n",
       "      <td>...</td>\n",
       "      <td>...</td>\n",
       "      <td>...</td>\n",
       "      <td>...</td>\n",
       "      <td>...</td>\n",
       "      <td>...</td>\n",
       "      <td>...</td>\n",
       "    </tr>\n",
       "    <tr>\n",
       "      <th>3280</th>\n",
       "      <td>1</td>\n",
       "      <td>76</td>\n",
       "      <td>1</td>\n",
       "      <td>0</td>\n",
       "      <td>0.000000</td>\n",
       "      <td>4</td>\n",
       "      <td>107.31250</td>\n",
       "      <td>140</td>\n",
       "      <td>39.00000</td>\n",
       "      <td>11.906250</td>\n",
       "      <td>10.000000</td>\n",
       "    </tr>\n",
       "    <tr>\n",
       "      <th>3287</th>\n",
       "      <td>1</td>\n",
       "      <td>170</td>\n",
       "      <td>1</td>\n",
       "      <td>1</td>\n",
       "      <td>2.939453</td>\n",
       "      <td>4</td>\n",
       "      <td>199.50000</td>\n",
       "      <td>119</td>\n",
       "      <td>75.37500</td>\n",
       "      <td>6.750000</td>\n",
       "      <td>10.898438</td>\n",
       "    </tr>\n",
       "    <tr>\n",
       "      <th>3301</th>\n",
       "      <td>1</td>\n",
       "      <td>84</td>\n",
       "      <td>1</td>\n",
       "      <td>0</td>\n",
       "      <td>0.000000</td>\n",
       "      <td>0</td>\n",
       "      <td>280.00000</td>\n",
       "      <td>113</td>\n",
       "      <td>65.00000</td>\n",
       "      <td>10.109375</td>\n",
       "      <td>10.398438</td>\n",
       "    </tr>\n",
       "    <tr>\n",
       "      <th>3322</th>\n",
       "      <td>1</td>\n",
       "      <td>62</td>\n",
       "      <td>1</td>\n",
       "      <td>0</td>\n",
       "      <td>0.000000</td>\n",
       "      <td>4</td>\n",
       "      <td>321.00000</td>\n",
       "      <td>105</td>\n",
       "      <td>78.00000</td>\n",
       "      <td>13.281250</td>\n",
       "      <td>11.500000</td>\n",
       "    </tr>\n",
       "    <tr>\n",
       "      <th>3323</th>\n",
       "      <td>1</td>\n",
       "      <td>117</td>\n",
       "      <td>1</td>\n",
       "      <td>0</td>\n",
       "      <td>0.389893</td>\n",
       "      <td>5</td>\n",
       "      <td>118.37500</td>\n",
       "      <td>126</td>\n",
       "      <td>45.90625</td>\n",
       "      <td>12.468750</td>\n",
       "      <td>13.601562</td>\n",
       "    </tr>\n",
       "  </tbody>\n",
       "</table>\n",
       "<p>346 rows × 11 columns</p>\n",
       "</div>"
      ],
      "text/plain": [
       "      Leave  MemberWeeks  NewContract  IsData  DataAmount  Callcenter  \\\n",
       "10        1           65            1       0    0.290039           4   \n",
       "15        1          161            1       0    0.000000           4   \n",
       "21        1           77            1       0    0.000000           5   \n",
       "33        1           12            1       0    0.000000           1   \n",
       "48        1          119            1       0    0.000000           5   \n",
       "...     ...          ...          ...     ...         ...         ...   \n",
       "3280      1           76            1       0    0.000000           4   \n",
       "3287      1          170            1       1    2.939453           4   \n",
       "3301      1           84            1       0    0.000000           0   \n",
       "3322      1           62            1       0    0.000000           4   \n",
       "3323      1          117            1       0    0.389893           5   \n",
       "\n",
       "        CalMins  CalCounts  MonthlyFee    OverFee  RoamingMin  \n",
       "10    129.12500        137    44.90625  11.429688   12.703125  \n",
       "15    333.00000         67    84.00000  15.890625    5.398438  \n",
       "21     62.40625         89    26.00000   8.500000    5.699219  \n",
       "33    249.62500        118    64.00000  12.617188   11.796875  \n",
       "48    159.12500        114    47.00000  11.570312    8.796875  \n",
       "...         ...        ...         ...        ...         ...  \n",
       "3280  107.31250        140    39.00000  11.906250   10.000000  \n",
       "3287  199.50000        119    75.37500   6.750000   10.898438  \n",
       "3301  280.00000        113    65.00000  10.109375   10.398438  \n",
       "3322  321.00000        105    78.00000  13.281250   11.500000  \n",
       "3323  118.37500        126    45.90625  12.468750   13.601562  \n",
       "\n",
       "[346 rows x 11 columns]"
      ]
     },
     "execution_count": 37,
     "metadata": {},
     "output_type": "execute_result"
    }
   ],
   "source": [
    "phone[phone['Leave'] == 1][phone['NewContract'] == 1]                 # Leave = 1 인데,  NewContract = 1 인 것도 있음."
   ]
  },
  {
   "cell_type": "markdown",
   "metadata": {},
   "source": [
    "#### 이런 식으로 말이죠.\n",
    "#### 이게 무슨 말이냐?\n",
    "# ★★★★★★★★★★ \n",
    "#### old = 가입했었던 사람들\n",
    "#### new = 신규가입자\n",
    "#### ing = 기존에 이미 가입되어있던 사람들\n",
    "\n",
    "#### leave = 1 이면, 무조건 old. (지금은 회원이 아님. 다른 통신사로 갔음.)\n",
    "#### leave = 0 중에, NewContract = 0 이면 (신규), NewContract = 1 이면 (갱신)"
   ]
  },
  {
   "cell_type": "markdown",
   "metadata": {},
   "source": [
    "##### 예를 들어, 봅시다.\n",
    "##### (윤성)이가 SKT 를 사용중입니다. 현재 2년 약정에 가입되어있죠. 그런데 2주 뒤면, 약정이 끝나게 됩니다.\n",
    "##### 이제, 2주가 지났습니다.\n",
    "##### (윤성)이는 (1) 2년 약정을 다시 할 수도 있고, (2) 약정없이, 그냥 써도 되고, (3) 다른 통신사로 가도 됩니다.\n",
    "##### (1), (2)는 leave = 0 이고, NewContract는 모릅니다. ★★★★★ 왜냐하면, 현재 고객들중에, 아직 갱신을 하지 않은 (신규 가입자)(NewContract = 0) 가 있을 수 있습니다.\n",
    "##### 또, 갱신을 하고 (NewContract = 1), 계속 이용중인 고객도 있을 수 있기 때문입니다.\n",
    "##### (3)은 leave = 1, NewContract은 모릅니다. ★★★★★ 마찬가지로, 갱신을 하고나서, 약정 중간에 혹은 약정이 끝난 뒤에, 다른 통신사 이동했을 수도 있는 겁니다!!"
   ]
  },
  {
   "cell_type": "code",
   "execution_count": 38,
   "metadata": {},
   "outputs": [
    {
     "name": "stderr",
     "output_type": "stream",
     "text": [
      "<ipython-input-38-d0555e49f164>:1: UserWarning: Boolean Series key will be reindexed to match DataFrame index.\n",
      "  phone[phone['Leave'] == 0][phone['NewContract'] == 0][phone['MemberWeeks'] <= 10]\n",
      "<ipython-input-38-d0555e49f164>:1: UserWarning: Boolean Series key will be reindexed to match DataFrame index.\n",
      "  phone[phone['Leave'] == 0][phone['NewContract'] == 0][phone['MemberWeeks'] <= 10]\n"
     ]
    },
    {
     "data": {
      "text/html": [
       "<div>\n",
       "<style scoped>\n",
       "    .dataframe tbody tr th:only-of-type {\n",
       "        vertical-align: middle;\n",
       "    }\n",
       "\n",
       "    .dataframe tbody tr th {\n",
       "        vertical-align: top;\n",
       "    }\n",
       "\n",
       "    .dataframe thead th {\n",
       "        text-align: right;\n",
       "    }\n",
       "</style>\n",
       "<table border=\"1\" class=\"dataframe\">\n",
       "  <thead>\n",
       "    <tr style=\"text-align: right;\">\n",
       "      <th></th>\n",
       "      <th>Leave</th>\n",
       "      <th>MemberWeeks</th>\n",
       "      <th>NewContract</th>\n",
       "      <th>IsData</th>\n",
       "      <th>DataAmount</th>\n",
       "      <th>Callcenter</th>\n",
       "      <th>CalMins</th>\n",
       "      <th>CalCounts</th>\n",
       "      <th>MonthlyFee</th>\n",
       "      <th>OverFee</th>\n",
       "      <th>RoamingMin</th>\n",
       "    </tr>\n",
       "  </thead>\n",
       "  <tbody>\n",
       "    <tr>\n",
       "      <th>2309</th>\n",
       "      <td>0</td>\n",
       "      <td>4</td>\n",
       "      <td>0</td>\n",
       "      <td>0</td>\n",
       "      <td>0.00000</td>\n",
       "      <td>0</td>\n",
       "      <td>145.25</td>\n",
       "      <td>89</td>\n",
       "      <td>51.00000</td>\n",
       "      <td>15.1875</td>\n",
       "      <td>8.898438</td>\n",
       "    </tr>\n",
       "    <tr>\n",
       "      <th>2467</th>\n",
       "      <td>0</td>\n",
       "      <td>3</td>\n",
       "      <td>0</td>\n",
       "      <td>0</td>\n",
       "      <td>0.26001</td>\n",
       "      <td>1</td>\n",
       "      <td>161.00</td>\n",
       "      <td>96</td>\n",
       "      <td>51.59375</td>\n",
       "      <td>12.2500</td>\n",
       "      <td>7.699219</td>\n",
       "    </tr>\n",
       "  </tbody>\n",
       "</table>\n",
       "</div>"
      ],
      "text/plain": [
       "      Leave  MemberWeeks  NewContract  IsData  DataAmount  Callcenter  \\\n",
       "2309      0            4            0       0     0.00000           0   \n",
       "2467      0            3            0       0     0.26001           1   \n",
       "\n",
       "      CalMins  CalCounts  MonthlyFee  OverFee  RoamingMin  \n",
       "2309   145.25         89    51.00000  15.1875    8.898438  \n",
       "2467   161.00         96    51.59375  12.2500    7.699219  "
      ]
     },
     "execution_count": 38,
     "metadata": {},
     "output_type": "execute_result"
    }
   ],
   "source": [
    "phone[phone['Leave'] == 0][phone['NewContract'] == 0][phone['MemberWeeks'] <= 10]"
   ]
  },
  {
   "cell_type": "code",
   "execution_count": 39,
   "metadata": {},
   "outputs": [
    {
     "data": {
      "text/plain": [
       "count    3333.000000\n",
       "mean      101.064806\n",
       "std        39.822106\n",
       "min         1.000000\n",
       "25%        74.000000\n",
       "50%       101.000000\n",
       "75%       127.000000\n",
       "max       243.000000\n",
       "Name: MemberWeeks, dtype: float64"
      ]
     },
     "execution_count": 39,
     "metadata": {},
     "output_type": "execute_result"
    }
   ],
   "source": [
    "phone.MemberWeeks.describe()"
   ]
  },
  {
   "cell_type": "markdown",
   "metadata": {},
   "source": [
    "##### 이 (MemberWeeks) 평균이 100 정도 이고, 25% 가 74 정도에서 짤리네요.\n",
    "##### 70 정도에서 끈어보겠습니다."
   ]
  },
  {
   "cell_type": "code",
   "execution_count": 40,
   "metadata": {},
   "outputs": [],
   "source": [
    "old = phone[phone['Leave'] == 1]\n",
    "new = phone[(phone['Leave'] == 0) & (phone['NewContract'] == 0) & (phone['MemberWeeks'] <= 70)]\n",
    "ing = phone[(phone['Leave'] == 0) & (((phone['NewContract'] == 0) & (phone['MemberWeeks'] > 70)) | (phone['NewContract'] == 1))]"
   ]
  },
  {
   "cell_type": "code",
   "execution_count": 41,
   "metadata": {},
   "outputs": [
    {
     "data": {
      "text/html": [
       "<div>\n",
       "<style scoped>\n",
       "    .dataframe tbody tr th:only-of-type {\n",
       "        vertical-align: middle;\n",
       "    }\n",
       "\n",
       "    .dataframe tbody tr th {\n",
       "        vertical-align: top;\n",
       "    }\n",
       "\n",
       "    .dataframe thead th {\n",
       "        text-align: right;\n",
       "    }\n",
       "</style>\n",
       "<table border=\"1\" class=\"dataframe\">\n",
       "  <thead>\n",
       "    <tr style=\"text-align: right;\">\n",
       "      <th></th>\n",
       "      <th>Leave</th>\n",
       "      <th>MemberWeeks</th>\n",
       "      <th>NewContract</th>\n",
       "      <th>IsData</th>\n",
       "      <th>DataAmount</th>\n",
       "      <th>Callcenter</th>\n",
       "      <th>CalMins</th>\n",
       "      <th>CalCounts</th>\n",
       "      <th>MonthlyFee</th>\n",
       "      <th>OverFee</th>\n",
       "      <th>RoamingMin</th>\n",
       "    </tr>\n",
       "  </thead>\n",
       "  <tbody>\n",
       "    <tr>\n",
       "      <th>10</th>\n",
       "      <td>1</td>\n",
       "      <td>65</td>\n",
       "      <td>1</td>\n",
       "      <td>0</td>\n",
       "      <td>0.290039</td>\n",
       "      <td>4</td>\n",
       "      <td>129.12500</td>\n",
       "      <td>137</td>\n",
       "      <td>44.90625</td>\n",
       "      <td>11.429688</td>\n",
       "      <td>12.703125</td>\n",
       "    </tr>\n",
       "    <tr>\n",
       "      <th>15</th>\n",
       "      <td>1</td>\n",
       "      <td>161</td>\n",
       "      <td>1</td>\n",
       "      <td>0</td>\n",
       "      <td>0.000000</td>\n",
       "      <td>4</td>\n",
       "      <td>333.00000</td>\n",
       "      <td>67</td>\n",
       "      <td>84.00000</td>\n",
       "      <td>15.890625</td>\n",
       "      <td>5.398438</td>\n",
       "    </tr>\n",
       "    <tr>\n",
       "      <th>21</th>\n",
       "      <td>1</td>\n",
       "      <td>77</td>\n",
       "      <td>1</td>\n",
       "      <td>0</td>\n",
       "      <td>0.000000</td>\n",
       "      <td>5</td>\n",
       "      <td>62.40625</td>\n",
       "      <td>89</td>\n",
       "      <td>26.00000</td>\n",
       "      <td>8.500000</td>\n",
       "      <td>5.699219</td>\n",
       "    </tr>\n",
       "    <tr>\n",
       "      <th>33</th>\n",
       "      <td>1</td>\n",
       "      <td>12</td>\n",
       "      <td>1</td>\n",
       "      <td>0</td>\n",
       "      <td>0.000000</td>\n",
       "      <td>1</td>\n",
       "      <td>249.62500</td>\n",
       "      <td>118</td>\n",
       "      <td>64.00000</td>\n",
       "      <td>12.617188</td>\n",
       "      <td>11.796875</td>\n",
       "    </tr>\n",
       "    <tr>\n",
       "      <th>41</th>\n",
       "      <td>1</td>\n",
       "      <td>135</td>\n",
       "      <td>0</td>\n",
       "      <td>1</td>\n",
       "      <td>3.939453</td>\n",
       "      <td>0</td>\n",
       "      <td>173.12500</td>\n",
       "      <td>85</td>\n",
       "      <td>86.37500</td>\n",
       "      <td>10.203125</td>\n",
       "      <td>14.601562</td>\n",
       "    </tr>\n",
       "    <tr>\n",
       "      <th>...</th>\n",
       "      <td>...</td>\n",
       "      <td>...</td>\n",
       "      <td>...</td>\n",
       "      <td>...</td>\n",
       "      <td>...</td>\n",
       "      <td>...</td>\n",
       "      <td>...</td>\n",
       "      <td>...</td>\n",
       "      <td>...</td>\n",
       "      <td>...</td>\n",
       "      <td>...</td>\n",
       "    </tr>\n",
       "    <tr>\n",
       "      <th>3301</th>\n",
       "      <td>1</td>\n",
       "      <td>84</td>\n",
       "      <td>1</td>\n",
       "      <td>0</td>\n",
       "      <td>0.000000</td>\n",
       "      <td>0</td>\n",
       "      <td>280.00000</td>\n",
       "      <td>113</td>\n",
       "      <td>65.00000</td>\n",
       "      <td>10.109375</td>\n",
       "      <td>10.398438</td>\n",
       "    </tr>\n",
       "    <tr>\n",
       "      <th>3304</th>\n",
       "      <td>1</td>\n",
       "      <td>71</td>\n",
       "      <td>0</td>\n",
       "      <td>0</td>\n",
       "      <td>0.000000</td>\n",
       "      <td>4</td>\n",
       "      <td>186.12500</td>\n",
       "      <td>114</td>\n",
       "      <td>49.00000</td>\n",
       "      <td>9.929688</td>\n",
       "      <td>13.796875</td>\n",
       "    </tr>\n",
       "    <tr>\n",
       "      <th>3320</th>\n",
       "      <td>1</td>\n",
       "      <td>122</td>\n",
       "      <td>0</td>\n",
       "      <td>0</td>\n",
       "      <td>0.300049</td>\n",
       "      <td>4</td>\n",
       "      <td>140.00000</td>\n",
       "      <td>101</td>\n",
       "      <td>44.00000</td>\n",
       "      <td>9.820312</td>\n",
       "      <td>9.703125</td>\n",
       "    </tr>\n",
       "    <tr>\n",
       "      <th>3322</th>\n",
       "      <td>1</td>\n",
       "      <td>62</td>\n",
       "      <td>1</td>\n",
       "      <td>0</td>\n",
       "      <td>0.000000</td>\n",
       "      <td>4</td>\n",
       "      <td>321.00000</td>\n",
       "      <td>105</td>\n",
       "      <td>78.00000</td>\n",
       "      <td>13.281250</td>\n",
       "      <td>11.500000</td>\n",
       "    </tr>\n",
       "    <tr>\n",
       "      <th>3323</th>\n",
       "      <td>1</td>\n",
       "      <td>117</td>\n",
       "      <td>1</td>\n",
       "      <td>0</td>\n",
       "      <td>0.389893</td>\n",
       "      <td>5</td>\n",
       "      <td>118.37500</td>\n",
       "      <td>126</td>\n",
       "      <td>45.90625</td>\n",
       "      <td>12.468750</td>\n",
       "      <td>13.601562</td>\n",
       "    </tr>\n",
       "  </tbody>\n",
       "</table>\n",
       "<p>483 rows × 11 columns</p>\n",
       "</div>"
      ],
      "text/plain": [
       "      Leave  MemberWeeks  NewContract  IsData  DataAmount  Callcenter  \\\n",
       "10        1           65            1       0    0.290039           4   \n",
       "15        1          161            1       0    0.000000           4   \n",
       "21        1           77            1       0    0.000000           5   \n",
       "33        1           12            1       0    0.000000           1   \n",
       "41        1          135            0       1    3.939453           0   \n",
       "...     ...          ...          ...     ...         ...         ...   \n",
       "3301      1           84            1       0    0.000000           0   \n",
       "3304      1           71            0       0    0.000000           4   \n",
       "3320      1          122            0       0    0.300049           4   \n",
       "3322      1           62            1       0    0.000000           4   \n",
       "3323      1          117            1       0    0.389893           5   \n",
       "\n",
       "        CalMins  CalCounts  MonthlyFee    OverFee  RoamingMin  \n",
       "10    129.12500        137    44.90625  11.429688   12.703125  \n",
       "15    333.00000         67    84.00000  15.890625    5.398438  \n",
       "21     62.40625         89    26.00000   8.500000    5.699219  \n",
       "33    249.62500        118    64.00000  12.617188   11.796875  \n",
       "41    173.12500         85    86.37500  10.203125   14.601562  \n",
       "...         ...        ...         ...        ...         ...  \n",
       "3301  280.00000        113    65.00000  10.109375   10.398438  \n",
       "3304  186.12500        114    49.00000   9.929688   13.796875  \n",
       "3320  140.00000        101    44.00000   9.820312    9.703125  \n",
       "3322  321.00000        105    78.00000  13.281250   11.500000  \n",
       "3323  118.37500        126    45.90625  12.468750   13.601562  \n",
       "\n",
       "[483 rows x 11 columns]"
      ]
     },
     "execution_count": 41,
     "metadata": {},
     "output_type": "execute_result"
    }
   ],
   "source": [
    "old        # 483 명"
   ]
  },
  {
   "cell_type": "code",
   "execution_count": 42,
   "metadata": {},
   "outputs": [
    {
     "data": {
      "text/html": [
       "<div>\n",
       "<style scoped>\n",
       "    .dataframe tbody tr th:only-of-type {\n",
       "        vertical-align: middle;\n",
       "    }\n",
       "\n",
       "    .dataframe tbody tr th {\n",
       "        vertical-align: top;\n",
       "    }\n",
       "\n",
       "    .dataframe thead th {\n",
       "        text-align: right;\n",
       "    }\n",
       "</style>\n",
       "<table border=\"1\" class=\"dataframe\">\n",
       "  <thead>\n",
       "    <tr style=\"text-align: right;\">\n",
       "      <th></th>\n",
       "      <th>Leave</th>\n",
       "      <th>MemberWeeks</th>\n",
       "      <th>NewContract</th>\n",
       "      <th>IsData</th>\n",
       "      <th>DataAmount</th>\n",
       "      <th>Callcenter</th>\n",
       "      <th>CalMins</th>\n",
       "      <th>CalCounts</th>\n",
       "      <th>MonthlyFee</th>\n",
       "      <th>OverFee</th>\n",
       "      <th>RoamingMin</th>\n",
       "    </tr>\n",
       "  </thead>\n",
       "  <tbody>\n",
       "    <tr>\n",
       "      <th>66</th>\n",
       "      <td>0</td>\n",
       "      <td>43</td>\n",
       "      <td>0</td>\n",
       "      <td>0</td>\n",
       "      <td>0.000000</td>\n",
       "      <td>0</td>\n",
       "      <td>251.50000</td>\n",
       "      <td>105</td>\n",
       "      <td>61.00000</td>\n",
       "      <td>10.640625</td>\n",
       "      <td>9.296875</td>\n",
       "    </tr>\n",
       "    <tr>\n",
       "      <th>231</th>\n",
       "      <td>0</td>\n",
       "      <td>63</td>\n",
       "      <td>0</td>\n",
       "      <td>1</td>\n",
       "      <td>2.970703</td>\n",
       "      <td>1</td>\n",
       "      <td>199.00000</td>\n",
       "      <td>110</td>\n",
       "      <td>88.68750</td>\n",
       "      <td>14.570312</td>\n",
       "      <td>11.000000</td>\n",
       "    </tr>\n",
       "    <tr>\n",
       "      <th>358</th>\n",
       "      <td>0</td>\n",
       "      <td>37</td>\n",
       "      <td>0</td>\n",
       "      <td>1</td>\n",
       "      <td>2.480469</td>\n",
       "      <td>1</td>\n",
       "      <td>149.75000</td>\n",
       "      <td>122</td>\n",
       "      <td>68.81250</td>\n",
       "      <td>10.562500</td>\n",
       "      <td>9.203125</td>\n",
       "    </tr>\n",
       "    <tr>\n",
       "      <th>553</th>\n",
       "      <td>0</td>\n",
       "      <td>61</td>\n",
       "      <td>0</td>\n",
       "      <td>0</td>\n",
       "      <td>0.000000</td>\n",
       "      <td>2</td>\n",
       "      <td>78.18750</td>\n",
       "      <td>103</td>\n",
       "      <td>30.00000</td>\n",
       "      <td>9.796875</td>\n",
       "      <td>10.101562</td>\n",
       "    </tr>\n",
       "    <tr>\n",
       "      <th>572</th>\n",
       "      <td>0</td>\n",
       "      <td>44</td>\n",
       "      <td>0</td>\n",
       "      <td>0</td>\n",
       "      <td>0.000000</td>\n",
       "      <td>1</td>\n",
       "      <td>62.31250</td>\n",
       "      <td>92</td>\n",
       "      <td>34.00000</td>\n",
       "      <td>13.750000</td>\n",
       "      <td>10.796875</td>\n",
       "    </tr>\n",
       "    <tr>\n",
       "      <th>716</th>\n",
       "      <td>0</td>\n",
       "      <td>57</td>\n",
       "      <td>0</td>\n",
       "      <td>1</td>\n",
       "      <td>3.080078</td>\n",
       "      <td>2</td>\n",
       "      <td>234.50000</td>\n",
       "      <td>130</td>\n",
       "      <td>87.81250</td>\n",
       "      <td>9.757812</td>\n",
       "      <td>11.398438</td>\n",
       "    </tr>\n",
       "    <tr>\n",
       "      <th>808</th>\n",
       "      <td>0</td>\n",
       "      <td>61</td>\n",
       "      <td>0</td>\n",
       "      <td>1</td>\n",
       "      <td>3.050781</td>\n",
       "      <td>0</td>\n",
       "      <td>143.50000</td>\n",
       "      <td>76</td>\n",
       "      <td>76.50000</td>\n",
       "      <td>12.132812</td>\n",
       "      <td>11.296875</td>\n",
       "    </tr>\n",
       "    <tr>\n",
       "      <th>837</th>\n",
       "      <td>0</td>\n",
       "      <td>64</td>\n",
       "      <td>0</td>\n",
       "      <td>1</td>\n",
       "      <td>2.189453</td>\n",
       "      <td>0</td>\n",
       "      <td>127.18750</td>\n",
       "      <td>93</td>\n",
       "      <td>57.90625</td>\n",
       "      <td>8.148438</td>\n",
       "      <td>8.101562</td>\n",
       "    </tr>\n",
       "    <tr>\n",
       "      <th>842</th>\n",
       "      <td>0</td>\n",
       "      <td>67</td>\n",
       "      <td>0</td>\n",
       "      <td>0</td>\n",
       "      <td>0.000000</td>\n",
       "      <td>2</td>\n",
       "      <td>120.87500</td>\n",
       "      <td>58</td>\n",
       "      <td>41.00000</td>\n",
       "      <td>11.750000</td>\n",
       "      <td>11.398438</td>\n",
       "    </tr>\n",
       "    <tr>\n",
       "      <th>1005</th>\n",
       "      <td>0</td>\n",
       "      <td>12</td>\n",
       "      <td>0</td>\n",
       "      <td>0</td>\n",
       "      <td>0.000000</td>\n",
       "      <td>2</td>\n",
       "      <td>216.75000</td>\n",
       "      <td>117</td>\n",
       "      <td>47.00000</td>\n",
       "      <td>5.828125</td>\n",
       "      <td>9.796875</td>\n",
       "    </tr>\n",
       "    <tr>\n",
       "      <th>1149</th>\n",
       "      <td>0</td>\n",
       "      <td>37</td>\n",
       "      <td>0</td>\n",
       "      <td>0</td>\n",
       "      <td>0.000000</td>\n",
       "      <td>2</td>\n",
       "      <td>106.62500</td>\n",
       "      <td>76</td>\n",
       "      <td>31.00000</td>\n",
       "      <td>7.371094</td>\n",
       "      <td>9.601562</td>\n",
       "    </tr>\n",
       "    <tr>\n",
       "      <th>1158</th>\n",
       "      <td>0</td>\n",
       "      <td>60</td>\n",
       "      <td>0</td>\n",
       "      <td>0</td>\n",
       "      <td>0.000000</td>\n",
       "      <td>1</td>\n",
       "      <td>183.00000</td>\n",
       "      <td>110</td>\n",
       "      <td>49.00000</td>\n",
       "      <td>10.343750</td>\n",
       "      <td>11.101562</td>\n",
       "    </tr>\n",
       "    <tr>\n",
       "      <th>1161</th>\n",
       "      <td>0</td>\n",
       "      <td>40</td>\n",
       "      <td>0</td>\n",
       "      <td>0</td>\n",
       "      <td>0.000000</td>\n",
       "      <td>3</td>\n",
       "      <td>170.75000</td>\n",
       "      <td>55</td>\n",
       "      <td>45.00000</td>\n",
       "      <td>8.960938</td>\n",
       "      <td>8.203125</td>\n",
       "    </tr>\n",
       "    <tr>\n",
       "      <th>1165</th>\n",
       "      <td>0</td>\n",
       "      <td>50</td>\n",
       "      <td>0</td>\n",
       "      <td>1</td>\n",
       "      <td>2.160156</td>\n",
       "      <td>0</td>\n",
       "      <td>307.00000</td>\n",
       "      <td>94</td>\n",
       "      <td>98.62500</td>\n",
       "      <td>14.468750</td>\n",
       "      <td>8.000000</td>\n",
       "    </tr>\n",
       "    <tr>\n",
       "      <th>1378</th>\n",
       "      <td>0</td>\n",
       "      <td>58</td>\n",
       "      <td>0</td>\n",
       "      <td>1</td>\n",
       "      <td>2.400391</td>\n",
       "      <td>1</td>\n",
       "      <td>142.75000</td>\n",
       "      <td>96</td>\n",
       "      <td>72.00000</td>\n",
       "      <td>13.617188</td>\n",
       "      <td>8.898438</td>\n",
       "    </tr>\n",
       "    <tr>\n",
       "      <th>1418</th>\n",
       "      <td>0</td>\n",
       "      <td>29</td>\n",
       "      <td>0</td>\n",
       "      <td>1</td>\n",
       "      <td>1.540039</td>\n",
       "      <td>2</td>\n",
       "      <td>235.00000</td>\n",
       "      <td>101</td>\n",
       "      <td>71.37500</td>\n",
       "      <td>9.171875</td>\n",
       "      <td>5.699219</td>\n",
       "    </tr>\n",
       "    <tr>\n",
       "      <th>1503</th>\n",
       "      <td>0</td>\n",
       "      <td>57</td>\n",
       "      <td>0</td>\n",
       "      <td>1</td>\n",
       "      <td>3.289062</td>\n",
       "      <td>2</td>\n",
       "      <td>236.50000</td>\n",
       "      <td>94</td>\n",
       "      <td>87.87500</td>\n",
       "      <td>8.156250</td>\n",
       "      <td>12.203125</td>\n",
       "    </tr>\n",
       "    <tr>\n",
       "      <th>1641</th>\n",
       "      <td>0</td>\n",
       "      <td>54</td>\n",
       "      <td>0</td>\n",
       "      <td>0</td>\n",
       "      <td>0.000000</td>\n",
       "      <td>1</td>\n",
       "      <td>214.12500</td>\n",
       "      <td>77</td>\n",
       "      <td>57.00000</td>\n",
       "      <td>12.031250</td>\n",
       "      <td>10.101562</td>\n",
       "    </tr>\n",
       "    <tr>\n",
       "      <th>1757</th>\n",
       "      <td>0</td>\n",
       "      <td>42</td>\n",
       "      <td>0</td>\n",
       "      <td>0</td>\n",
       "      <td>0.000000</td>\n",
       "      <td>2</td>\n",
       "      <td>180.75000</td>\n",
       "      <td>127</td>\n",
       "      <td>46.00000</td>\n",
       "      <td>8.726562</td>\n",
       "      <td>12.000000</td>\n",
       "    </tr>\n",
       "    <tr>\n",
       "      <th>1872</th>\n",
       "      <td>0</td>\n",
       "      <td>15</td>\n",
       "      <td>0</td>\n",
       "      <td>0</td>\n",
       "      <td>0.000000</td>\n",
       "      <td>2</td>\n",
       "      <td>141.37500</td>\n",
       "      <td>80</td>\n",
       "      <td>35.00000</td>\n",
       "      <td>6.199219</td>\n",
       "      <td>8.101562</td>\n",
       "    </tr>\n",
       "    <tr>\n",
       "      <th>1877</th>\n",
       "      <td>0</td>\n",
       "      <td>55</td>\n",
       "      <td>0</td>\n",
       "      <td>0</td>\n",
       "      <td>0.000000</td>\n",
       "      <td>1</td>\n",
       "      <td>221.00000</td>\n",
       "      <td>115</td>\n",
       "      <td>52.00000</td>\n",
       "      <td>8.273438</td>\n",
       "      <td>9.703125</td>\n",
       "    </tr>\n",
       "    <tr>\n",
       "      <th>1884</th>\n",
       "      <td>0</td>\n",
       "      <td>51</td>\n",
       "      <td>0</td>\n",
       "      <td>1</td>\n",
       "      <td>3.320312</td>\n",
       "      <td>2</td>\n",
       "      <td>135.75000</td>\n",
       "      <td>60</td>\n",
       "      <td>74.18750</td>\n",
       "      <td>10.031250</td>\n",
       "      <td>12.296875</td>\n",
       "    </tr>\n",
       "    <tr>\n",
       "      <th>2003</th>\n",
       "      <td>0</td>\n",
       "      <td>33</td>\n",
       "      <td>0</td>\n",
       "      <td>0</td>\n",
       "      <td>0.000000</td>\n",
       "      <td>1</td>\n",
       "      <td>190.62500</td>\n",
       "      <td>100</td>\n",
       "      <td>47.00000</td>\n",
       "      <td>8.093750</td>\n",
       "      <td>13.000000</td>\n",
       "    </tr>\n",
       "    <tr>\n",
       "      <th>2051</th>\n",
       "      <td>0</td>\n",
       "      <td>55</td>\n",
       "      <td>0</td>\n",
       "      <td>0</td>\n",
       "      <td>0.000000</td>\n",
       "      <td>1</td>\n",
       "      <td>269.50000</td>\n",
       "      <td>121</td>\n",
       "      <td>61.00000</td>\n",
       "      <td>8.593750</td>\n",
       "      <td>8.203125</td>\n",
       "    </tr>\n",
       "    <tr>\n",
       "      <th>2253</th>\n",
       "      <td>0</td>\n",
       "      <td>63</td>\n",
       "      <td>0</td>\n",
       "      <td>0</td>\n",
       "      <td>0.000000</td>\n",
       "      <td>1</td>\n",
       "      <td>62.90625</td>\n",
       "      <td>112</td>\n",
       "      <td>28.00000</td>\n",
       "      <td>10.148438</td>\n",
       "      <td>8.898438</td>\n",
       "    </tr>\n",
       "    <tr>\n",
       "      <th>2293</th>\n",
       "      <td>0</td>\n",
       "      <td>59</td>\n",
       "      <td>0</td>\n",
       "      <td>1</td>\n",
       "      <td>2.460938</td>\n",
       "      <td>1</td>\n",
       "      <td>225.00000</td>\n",
       "      <td>78</td>\n",
       "      <td>79.62500</td>\n",
       "      <td>9.570312</td>\n",
       "      <td>9.101562</td>\n",
       "    </tr>\n",
       "    <tr>\n",
       "      <th>2309</th>\n",
       "      <td>0</td>\n",
       "      <td>4</td>\n",
       "      <td>0</td>\n",
       "      <td>0</td>\n",
       "      <td>0.000000</td>\n",
       "      <td>0</td>\n",
       "      <td>145.25000</td>\n",
       "      <td>89</td>\n",
       "      <td>51.00000</td>\n",
       "      <td>15.187500</td>\n",
       "      <td>8.898438</td>\n",
       "    </tr>\n",
       "    <tr>\n",
       "      <th>2384</th>\n",
       "      <td>0</td>\n",
       "      <td>40</td>\n",
       "      <td>0</td>\n",
       "      <td>0</td>\n",
       "      <td>0.229980</td>\n",
       "      <td>0</td>\n",
       "      <td>220.75000</td>\n",
       "      <td>100</td>\n",
       "      <td>63.31250</td>\n",
       "      <td>13.289062</td>\n",
       "      <td>6.398438</td>\n",
       "    </tr>\n",
       "    <tr>\n",
       "      <th>2414</th>\n",
       "      <td>0</td>\n",
       "      <td>16</td>\n",
       "      <td>0</td>\n",
       "      <td>0</td>\n",
       "      <td>0.000000</td>\n",
       "      <td>0</td>\n",
       "      <td>110.00000</td>\n",
       "      <td>91</td>\n",
       "      <td>32.00000</td>\n",
       "      <td>7.371094</td>\n",
       "      <td>6.398438</td>\n",
       "    </tr>\n",
       "    <tr>\n",
       "      <th>2467</th>\n",
       "      <td>0</td>\n",
       "      <td>3</td>\n",
       "      <td>0</td>\n",
       "      <td>0</td>\n",
       "      <td>0.260010</td>\n",
       "      <td>1</td>\n",
       "      <td>161.00000</td>\n",
       "      <td>96</td>\n",
       "      <td>51.59375</td>\n",
       "      <td>12.250000</td>\n",
       "      <td>7.699219</td>\n",
       "    </tr>\n",
       "    <tr>\n",
       "      <th>2641</th>\n",
       "      <td>0</td>\n",
       "      <td>68</td>\n",
       "      <td>0</td>\n",
       "      <td>1</td>\n",
       "      <td>3.050781</td>\n",
       "      <td>1</td>\n",
       "      <td>142.00000</td>\n",
       "      <td>140</td>\n",
       "      <td>75.50000</td>\n",
       "      <td>12.078125</td>\n",
       "      <td>11.296875</td>\n",
       "    </tr>\n",
       "    <tr>\n",
       "      <th>2642</th>\n",
       "      <td>0</td>\n",
       "      <td>63</td>\n",
       "      <td>0</td>\n",
       "      <td>1</td>\n",
       "      <td>2.699219</td>\n",
       "      <td>1</td>\n",
       "      <td>151.50000</td>\n",
       "      <td>99</td>\n",
       "      <td>66.00000</td>\n",
       "      <td>7.390625</td>\n",
       "      <td>10.000000</td>\n",
       "    </tr>\n",
       "    <tr>\n",
       "      <th>2682</th>\n",
       "      <td>0</td>\n",
       "      <td>55</td>\n",
       "      <td>0</td>\n",
       "      <td>0</td>\n",
       "      <td>0.000000</td>\n",
       "      <td>0</td>\n",
       "      <td>106.12500</td>\n",
       "      <td>77</td>\n",
       "      <td>29.00000</td>\n",
       "      <td>6.179688</td>\n",
       "      <td>12.898438</td>\n",
       "    </tr>\n",
       "    <tr>\n",
       "      <th>2701</th>\n",
       "      <td>0</td>\n",
       "      <td>66</td>\n",
       "      <td>0</td>\n",
       "      <td>0</td>\n",
       "      <td>0.280029</td>\n",
       "      <td>3</td>\n",
       "      <td>208.75000</td>\n",
       "      <td>84</td>\n",
       "      <td>53.81250</td>\n",
       "      <td>8.671875</td>\n",
       "      <td>8.296875</td>\n",
       "    </tr>\n",
       "    <tr>\n",
       "      <th>2845</th>\n",
       "      <td>0</td>\n",
       "      <td>19</td>\n",
       "      <td>0</td>\n",
       "      <td>0</td>\n",
       "      <td>0.000000</td>\n",
       "      <td>0</td>\n",
       "      <td>237.75000</td>\n",
       "      <td>98</td>\n",
       "      <td>59.00000</td>\n",
       "      <td>10.359375</td>\n",
       "      <td>4.500000</td>\n",
       "    </tr>\n",
       "    <tr>\n",
       "      <th>2895</th>\n",
       "      <td>0</td>\n",
       "      <td>33</td>\n",
       "      <td>0</td>\n",
       "      <td>0</td>\n",
       "      <td>0.000000</td>\n",
       "      <td>0</td>\n",
       "      <td>164.00000</td>\n",
       "      <td>99</td>\n",
       "      <td>41.00000</td>\n",
       "      <td>7.660156</td>\n",
       "      <td>6.398438</td>\n",
       "    </tr>\n",
       "    <tr>\n",
       "      <th>2948</th>\n",
       "      <td>0</td>\n",
       "      <td>56</td>\n",
       "      <td>0</td>\n",
       "      <td>0</td>\n",
       "      <td>0.000000</td>\n",
       "      <td>1</td>\n",
       "      <td>177.75000</td>\n",
       "      <td>114</td>\n",
       "      <td>49.00000</td>\n",
       "      <td>10.781250</td>\n",
       "      <td>10.500000</td>\n",
       "    </tr>\n",
       "    <tr>\n",
       "      <th>3031</th>\n",
       "      <td>0</td>\n",
       "      <td>64</td>\n",
       "      <td>0</td>\n",
       "      <td>0</td>\n",
       "      <td>0.260010</td>\n",
       "      <td>3</td>\n",
       "      <td>146.75000</td>\n",
       "      <td>83</td>\n",
       "      <td>40.59375</td>\n",
       "      <td>7.421875</td>\n",
       "      <td>12.500000</td>\n",
       "    </tr>\n",
       "    <tr>\n",
       "      <th>3086</th>\n",
       "      <td>0</td>\n",
       "      <td>54</td>\n",
       "      <td>0</td>\n",
       "      <td>0</td>\n",
       "      <td>0.000000</td>\n",
       "      <td>3</td>\n",
       "      <td>236.25000</td>\n",
       "      <td>91</td>\n",
       "      <td>54.00000</td>\n",
       "      <td>7.640625</td>\n",
       "      <td>11.203125</td>\n",
       "    </tr>\n",
       "    <tr>\n",
       "      <th>3222</th>\n",
       "      <td>0</td>\n",
       "      <td>61</td>\n",
       "      <td>0</td>\n",
       "      <td>1</td>\n",
       "      <td>3.160156</td>\n",
       "      <td>3</td>\n",
       "      <td>128.25000</td>\n",
       "      <td>119</td>\n",
       "      <td>68.62500</td>\n",
       "      <td>8.593750</td>\n",
       "      <td>11.703125</td>\n",
       "    </tr>\n",
       "  </tbody>\n",
       "</table>\n",
       "</div>"
      ],
      "text/plain": [
       "      Leave  MemberWeeks  NewContract  IsData  DataAmount  Callcenter  \\\n",
       "66        0           43            0       0    0.000000           0   \n",
       "231       0           63            0       1    2.970703           1   \n",
       "358       0           37            0       1    2.480469           1   \n",
       "553       0           61            0       0    0.000000           2   \n",
       "572       0           44            0       0    0.000000           1   \n",
       "716       0           57            0       1    3.080078           2   \n",
       "808       0           61            0       1    3.050781           0   \n",
       "837       0           64            0       1    2.189453           0   \n",
       "842       0           67            0       0    0.000000           2   \n",
       "1005      0           12            0       0    0.000000           2   \n",
       "1149      0           37            0       0    0.000000           2   \n",
       "1158      0           60            0       0    0.000000           1   \n",
       "1161      0           40            0       0    0.000000           3   \n",
       "1165      0           50            0       1    2.160156           0   \n",
       "1378      0           58            0       1    2.400391           1   \n",
       "1418      0           29            0       1    1.540039           2   \n",
       "1503      0           57            0       1    3.289062           2   \n",
       "1641      0           54            0       0    0.000000           1   \n",
       "1757      0           42            0       0    0.000000           2   \n",
       "1872      0           15            0       0    0.000000           2   \n",
       "1877      0           55            0       0    0.000000           1   \n",
       "1884      0           51            0       1    3.320312           2   \n",
       "2003      0           33            0       0    0.000000           1   \n",
       "2051      0           55            0       0    0.000000           1   \n",
       "2253      0           63            0       0    0.000000           1   \n",
       "2293      0           59            0       1    2.460938           1   \n",
       "2309      0            4            0       0    0.000000           0   \n",
       "2384      0           40            0       0    0.229980           0   \n",
       "2414      0           16            0       0    0.000000           0   \n",
       "2467      0            3            0       0    0.260010           1   \n",
       "2641      0           68            0       1    3.050781           1   \n",
       "2642      0           63            0       1    2.699219           1   \n",
       "2682      0           55            0       0    0.000000           0   \n",
       "2701      0           66            0       0    0.280029           3   \n",
       "2845      0           19            0       0    0.000000           0   \n",
       "2895      0           33            0       0    0.000000           0   \n",
       "2948      0           56            0       0    0.000000           1   \n",
       "3031      0           64            0       0    0.260010           3   \n",
       "3086      0           54            0       0    0.000000           3   \n",
       "3222      0           61            0       1    3.160156           3   \n",
       "\n",
       "        CalMins  CalCounts  MonthlyFee    OverFee  RoamingMin  \n",
       "66    251.50000        105    61.00000  10.640625    9.296875  \n",
       "231   199.00000        110    88.68750  14.570312   11.000000  \n",
       "358   149.75000        122    68.81250  10.562500    9.203125  \n",
       "553    78.18750        103    30.00000   9.796875   10.101562  \n",
       "572    62.31250         92    34.00000  13.750000   10.796875  \n",
       "716   234.50000        130    87.81250   9.757812   11.398438  \n",
       "808   143.50000         76    76.50000  12.132812   11.296875  \n",
       "837   127.18750         93    57.90625   8.148438    8.101562  \n",
       "842   120.87500         58    41.00000  11.750000   11.398438  \n",
       "1005  216.75000        117    47.00000   5.828125    9.796875  \n",
       "1149  106.62500         76    31.00000   7.371094    9.601562  \n",
       "1158  183.00000        110    49.00000  10.343750   11.101562  \n",
       "1161  170.75000         55    45.00000   8.960938    8.203125  \n",
       "1165  307.00000         94    98.62500  14.468750    8.000000  \n",
       "1378  142.75000         96    72.00000  13.617188    8.898438  \n",
       "1418  235.00000        101    71.37500   9.171875    5.699219  \n",
       "1503  236.50000         94    87.87500   8.156250   12.203125  \n",
       "1641  214.12500         77    57.00000  12.031250   10.101562  \n",
       "1757  180.75000        127    46.00000   8.726562   12.000000  \n",
       "1872  141.37500         80    35.00000   6.199219    8.101562  \n",
       "1877  221.00000        115    52.00000   8.273438    9.703125  \n",
       "1884  135.75000         60    74.18750  10.031250   12.296875  \n",
       "2003  190.62500        100    47.00000   8.093750   13.000000  \n",
       "2051  269.50000        121    61.00000   8.593750    8.203125  \n",
       "2253   62.90625        112    28.00000  10.148438    8.898438  \n",
       "2293  225.00000         78    79.62500   9.570312    9.101562  \n",
       "2309  145.25000         89    51.00000  15.187500    8.898438  \n",
       "2384  220.75000        100    63.31250  13.289062    6.398438  \n",
       "2414  110.00000         91    32.00000   7.371094    6.398438  \n",
       "2467  161.00000         96    51.59375  12.250000    7.699219  \n",
       "2641  142.00000        140    75.50000  12.078125   11.296875  \n",
       "2642  151.50000         99    66.00000   7.390625   10.000000  \n",
       "2682  106.12500         77    29.00000   6.179688   12.898438  \n",
       "2701  208.75000         84    53.81250   8.671875    8.296875  \n",
       "2845  237.75000         98    59.00000  10.359375    4.500000  \n",
       "2895  164.00000         99    41.00000   7.660156    6.398438  \n",
       "2948  177.75000        114    49.00000  10.781250   10.500000  \n",
       "3031  146.75000         83    40.59375   7.421875   12.500000  \n",
       "3086  236.25000         91    54.00000   7.640625   11.203125  \n",
       "3222  128.25000        119    68.62500   8.593750   11.703125  "
      ]
     },
     "execution_count": 42,
     "metadata": {},
     "output_type": "execute_result"
    }
   ],
   "source": [
    "new"
   ]
  },
  {
   "cell_type": "code",
   "execution_count": 43,
   "metadata": {},
   "outputs": [
    {
     "data": {
      "text/plain": [
       "40"
      ]
     },
     "execution_count": 43,
     "metadata": {},
     "output_type": "execute_result"
    }
   ],
   "source": [
    "len(new)      # 40 명"
   ]
  },
  {
   "cell_type": "code",
   "execution_count": 44,
   "metadata": {},
   "outputs": [
    {
     "data": {
      "text/html": [
       "<div>\n",
       "<style scoped>\n",
       "    .dataframe tbody tr th:only-of-type {\n",
       "        vertical-align: middle;\n",
       "    }\n",
       "\n",
       "    .dataframe tbody tr th {\n",
       "        vertical-align: top;\n",
       "    }\n",
       "\n",
       "    .dataframe thead th {\n",
       "        text-align: right;\n",
       "    }\n",
       "</style>\n",
       "<table border=\"1\" class=\"dataframe\">\n",
       "  <thead>\n",
       "    <tr style=\"text-align: right;\">\n",
       "      <th></th>\n",
       "      <th>Leave</th>\n",
       "      <th>MemberWeeks</th>\n",
       "      <th>NewContract</th>\n",
       "      <th>IsData</th>\n",
       "      <th>DataAmount</th>\n",
       "      <th>Callcenter</th>\n",
       "      <th>CalMins</th>\n",
       "      <th>CalCounts</th>\n",
       "      <th>MonthlyFee</th>\n",
       "      <th>OverFee</th>\n",
       "      <th>RoamingMin</th>\n",
       "    </tr>\n",
       "  </thead>\n",
       "  <tbody>\n",
       "    <tr>\n",
       "      <th>0</th>\n",
       "      <td>0</td>\n",
       "      <td>128</td>\n",
       "      <td>1</td>\n",
       "      <td>1</td>\n",
       "      <td>2.699219</td>\n",
       "      <td>1</td>\n",
       "      <td>265.000</td>\n",
       "      <td>110</td>\n",
       "      <td>89.00000</td>\n",
       "      <td>9.867188</td>\n",
       "      <td>10.000000</td>\n",
       "    </tr>\n",
       "    <tr>\n",
       "      <th>1</th>\n",
       "      <td>0</td>\n",
       "      <td>107</td>\n",
       "      <td>1</td>\n",
       "      <td>1</td>\n",
       "      <td>3.699219</td>\n",
       "      <td>1</td>\n",
       "      <td>161.625</td>\n",
       "      <td>123</td>\n",
       "      <td>82.00000</td>\n",
       "      <td>9.781250</td>\n",
       "      <td>13.703125</td>\n",
       "    </tr>\n",
       "    <tr>\n",
       "      <th>2</th>\n",
       "      <td>0</td>\n",
       "      <td>137</td>\n",
       "      <td>1</td>\n",
       "      <td>0</td>\n",
       "      <td>0.000000</td>\n",
       "      <td>0</td>\n",
       "      <td>243.375</td>\n",
       "      <td>114</td>\n",
       "      <td>52.00000</td>\n",
       "      <td>6.058594</td>\n",
       "      <td>12.203125</td>\n",
       "    </tr>\n",
       "    <tr>\n",
       "      <th>3</th>\n",
       "      <td>0</td>\n",
       "      <td>84</td>\n",
       "      <td>0</td>\n",
       "      <td>0</td>\n",
       "      <td>0.000000</td>\n",
       "      <td>2</td>\n",
       "      <td>299.500</td>\n",
       "      <td>71</td>\n",
       "      <td>57.00000</td>\n",
       "      <td>3.099609</td>\n",
       "      <td>6.601562</td>\n",
       "    </tr>\n",
       "    <tr>\n",
       "      <th>4</th>\n",
       "      <td>0</td>\n",
       "      <td>75</td>\n",
       "      <td>0</td>\n",
       "      <td>0</td>\n",
       "      <td>0.000000</td>\n",
       "      <td>3</td>\n",
       "      <td>166.750</td>\n",
       "      <td>113</td>\n",
       "      <td>41.00000</td>\n",
       "      <td>7.421875</td>\n",
       "      <td>10.101562</td>\n",
       "    </tr>\n",
       "    <tr>\n",
       "      <th>...</th>\n",
       "      <td>...</td>\n",
       "      <td>...</td>\n",
       "      <td>...</td>\n",
       "      <td>...</td>\n",
       "      <td>...</td>\n",
       "      <td>...</td>\n",
       "      <td>...</td>\n",
       "      <td>...</td>\n",
       "      <td>...</td>\n",
       "      <td>...</td>\n",
       "      <td>...</td>\n",
       "    </tr>\n",
       "    <tr>\n",
       "      <th>3328</th>\n",
       "      <td>0</td>\n",
       "      <td>192</td>\n",
       "      <td>1</td>\n",
       "      <td>1</td>\n",
       "      <td>2.669922</td>\n",
       "      <td>2</td>\n",
       "      <td>156.250</td>\n",
       "      <td>77</td>\n",
       "      <td>71.68750</td>\n",
       "      <td>10.781250</td>\n",
       "      <td>9.898438</td>\n",
       "    </tr>\n",
       "    <tr>\n",
       "      <th>3329</th>\n",
       "      <td>0</td>\n",
       "      <td>68</td>\n",
       "      <td>1</td>\n",
       "      <td>0</td>\n",
       "      <td>0.340088</td>\n",
       "      <td>3</td>\n",
       "      <td>231.125</td>\n",
       "      <td>57</td>\n",
       "      <td>56.40625</td>\n",
       "      <td>7.671875</td>\n",
       "      <td>9.601562</td>\n",
       "    </tr>\n",
       "    <tr>\n",
       "      <th>3330</th>\n",
       "      <td>0</td>\n",
       "      <td>28</td>\n",
       "      <td>1</td>\n",
       "      <td>0</td>\n",
       "      <td>0.000000</td>\n",
       "      <td>2</td>\n",
       "      <td>180.750</td>\n",
       "      <td>109</td>\n",
       "      <td>56.00000</td>\n",
       "      <td>14.437500</td>\n",
       "      <td>14.101562</td>\n",
       "    </tr>\n",
       "    <tr>\n",
       "      <th>3331</th>\n",
       "      <td>0</td>\n",
       "      <td>184</td>\n",
       "      <td>0</td>\n",
       "      <td>0</td>\n",
       "      <td>0.000000</td>\n",
       "      <td>2</td>\n",
       "      <td>213.750</td>\n",
       "      <td>105</td>\n",
       "      <td>50.00000</td>\n",
       "      <td>7.980469</td>\n",
       "      <td>5.000000</td>\n",
       "    </tr>\n",
       "    <tr>\n",
       "      <th>3332</th>\n",
       "      <td>0</td>\n",
       "      <td>74</td>\n",
       "      <td>1</td>\n",
       "      <td>1</td>\n",
       "      <td>3.699219</td>\n",
       "      <td>0</td>\n",
       "      <td>234.375</td>\n",
       "      <td>113</td>\n",
       "      <td>100.00000</td>\n",
       "      <td>13.296875</td>\n",
       "      <td>13.703125</td>\n",
       "    </tr>\n",
       "  </tbody>\n",
       "</table>\n",
       "<p>2810 rows × 11 columns</p>\n",
       "</div>"
      ],
      "text/plain": [
       "      Leave  MemberWeeks  NewContract  IsData  DataAmount  Callcenter  \\\n",
       "0         0          128            1       1    2.699219           1   \n",
       "1         0          107            1       1    3.699219           1   \n",
       "2         0          137            1       0    0.000000           0   \n",
       "3         0           84            0       0    0.000000           2   \n",
       "4         0           75            0       0    0.000000           3   \n",
       "...     ...          ...          ...     ...         ...         ...   \n",
       "3328      0          192            1       1    2.669922           2   \n",
       "3329      0           68            1       0    0.340088           3   \n",
       "3330      0           28            1       0    0.000000           2   \n",
       "3331      0          184            0       0    0.000000           2   \n",
       "3332      0           74            1       1    3.699219           0   \n",
       "\n",
       "      CalMins  CalCounts  MonthlyFee    OverFee  RoamingMin  \n",
       "0     265.000        110    89.00000   9.867188   10.000000  \n",
       "1     161.625        123    82.00000   9.781250   13.703125  \n",
       "2     243.375        114    52.00000   6.058594   12.203125  \n",
       "3     299.500         71    57.00000   3.099609    6.601562  \n",
       "4     166.750        113    41.00000   7.421875   10.101562  \n",
       "...       ...        ...         ...        ...         ...  \n",
       "3328  156.250         77    71.68750  10.781250    9.898438  \n",
       "3329  231.125         57    56.40625   7.671875    9.601562  \n",
       "3330  180.750        109    56.00000  14.437500   14.101562  \n",
       "3331  213.750        105    50.00000   7.980469    5.000000  \n",
       "3332  234.375        113   100.00000  13.296875   13.703125  \n",
       "\n",
       "[2810 rows x 11 columns]"
      ]
     },
     "execution_count": 44,
     "metadata": {},
     "output_type": "execute_result"
    }
   ],
   "source": [
    "ing          # 2810 명"
   ]
  },
  {
   "cell_type": "code",
   "execution_count": 45,
   "metadata": {},
   "outputs": [
    {
     "data": {
      "text/html": [
       "<div>\n",
       "<style scoped>\n",
       "    .dataframe tbody tr th:only-of-type {\n",
       "        vertical-align: middle;\n",
       "    }\n",
       "\n",
       "    .dataframe tbody tr th {\n",
       "        vertical-align: top;\n",
       "    }\n",
       "\n",
       "    .dataframe thead th {\n",
       "        text-align: right;\n",
       "    }\n",
       "</style>\n",
       "<table border=\"1\" class=\"dataframe\">\n",
       "  <thead>\n",
       "    <tr style=\"text-align: right;\">\n",
       "      <th></th>\n",
       "      <th>Leave</th>\n",
       "      <th>MemberWeeks</th>\n",
       "      <th>NewContract</th>\n",
       "      <th>IsData</th>\n",
       "      <th>DataAmount</th>\n",
       "      <th>Callcenter</th>\n",
       "      <th>CalMins</th>\n",
       "      <th>CalCounts</th>\n",
       "      <th>MonthlyFee</th>\n",
       "      <th>OverFee</th>\n",
       "      <th>RoamingMin</th>\n",
       "    </tr>\n",
       "  </thead>\n",
       "  <tbody>\n",
       "    <tr>\n",
       "      <th>count</th>\n",
       "      <td>483.0</td>\n",
       "      <td>483.000000</td>\n",
       "      <td>483.000000</td>\n",
       "      <td>483.000000</td>\n",
       "      <td>483.000000</td>\n",
       "      <td>483.000000</td>\n",
       "      <td>483.000</td>\n",
       "      <td>483.000000</td>\n",
       "      <td>483.0000</td>\n",
       "      <td>483.000000</td>\n",
       "      <td>483.000000</td>\n",
       "    </tr>\n",
       "    <tr>\n",
       "      <th>mean</th>\n",
       "      <td>1.0</td>\n",
       "      <td>102.664596</td>\n",
       "      <td>0.716356</td>\n",
       "      <td>0.165631</td>\n",
       "      <td>0.546875</td>\n",
       "      <td>2.229814</td>\n",
       "      <td>inf</td>\n",
       "      <td>101.335404</td>\n",
       "      <td>59.1875</td>\n",
       "      <td>10.625000</td>\n",
       "      <td>10.703125</td>\n",
       "    </tr>\n",
       "    <tr>\n",
       "      <th>std</th>\n",
       "      <td>0.0</td>\n",
       "      <td>39.467820</td>\n",
       "      <td>0.451233</td>\n",
       "      <td>0.372135</td>\n",
       "      <td>1.155273</td>\n",
       "      <td>1.853275</td>\n",
       "      <td>69.000</td>\n",
       "      <td>21.582307</td>\n",
       "      <td>16.0625</td>\n",
       "      <td>2.585938</td>\n",
       "      <td>2.792969</td>\n",
       "    </tr>\n",
       "    <tr>\n",
       "      <th>min</th>\n",
       "      <td>1.0</td>\n",
       "      <td>1.000000</td>\n",
       "      <td>0.000000</td>\n",
       "      <td>0.000000</td>\n",
       "      <td>0.000000</td>\n",
       "      <td>0.000000</td>\n",
       "      <td>0.000</td>\n",
       "      <td>0.000000</td>\n",
       "      <td>14.0000</td>\n",
       "      <td>3.550781</td>\n",
       "      <td>2.000000</td>\n",
       "    </tr>\n",
       "    <tr>\n",
       "      <th>25%</th>\n",
       "      <td>1.0</td>\n",
       "      <td>76.000000</td>\n",
       "      <td>0.000000</td>\n",
       "      <td>0.000000</td>\n",
       "      <td>0.000000</td>\n",
       "      <td>1.000000</td>\n",
       "      <td>153.250</td>\n",
       "      <td>87.500000</td>\n",
       "      <td>45.0000</td>\n",
       "      <td>8.863281</td>\n",
       "      <td>8.796875</td>\n",
       "    </tr>\n",
       "    <tr>\n",
       "      <th>50%</th>\n",
       "      <td>1.0</td>\n",
       "      <td>103.000000</td>\n",
       "      <td>1.000000</td>\n",
       "      <td>0.000000</td>\n",
       "      <td>0.000000</td>\n",
       "      <td>2.000000</td>\n",
       "      <td>217.625</td>\n",
       "      <td>103.000000</td>\n",
       "      <td>63.0000</td>\n",
       "      <td>10.570312</td>\n",
       "      <td>10.601562</td>\n",
       "    </tr>\n",
       "    <tr>\n",
       "      <th>75%</th>\n",
       "      <td>1.0</td>\n",
       "      <td>127.000000</td>\n",
       "      <td>1.000000</td>\n",
       "      <td>0.000000</td>\n",
       "      <td>0.295044</td>\n",
       "      <td>4.000000</td>\n",
       "      <td>266.000</td>\n",
       "      <td>116.500000</td>\n",
       "      <td>69.0000</td>\n",
       "      <td>12.472656</td>\n",
       "      <td>12.796875</td>\n",
       "    </tr>\n",
       "    <tr>\n",
       "      <th>max</th>\n",
       "      <td>1.0</td>\n",
       "      <td>225.000000</td>\n",
       "      <td>1.000000</td>\n",
       "      <td>1.000000</td>\n",
       "      <td>5.398438</td>\n",
       "      <td>9.000000</td>\n",
       "      <td>350.750</td>\n",
       "      <td>165.000000</td>\n",
       "      <td>110.0000</td>\n",
       "      <td>18.187500</td>\n",
       "      <td>20.000000</td>\n",
       "    </tr>\n",
       "  </tbody>\n",
       "</table>\n",
       "</div>"
      ],
      "text/plain": [
       "       Leave  MemberWeeks  NewContract      IsData  DataAmount  Callcenter  \\\n",
       "count  483.0   483.000000   483.000000  483.000000  483.000000  483.000000   \n",
       "mean     1.0   102.664596     0.716356    0.165631    0.546875    2.229814   \n",
       "std      0.0    39.467820     0.451233    0.372135    1.155273    1.853275   \n",
       "min      1.0     1.000000     0.000000    0.000000    0.000000    0.000000   \n",
       "25%      1.0    76.000000     0.000000    0.000000    0.000000    1.000000   \n",
       "50%      1.0   103.000000     1.000000    0.000000    0.000000    2.000000   \n",
       "75%      1.0   127.000000     1.000000    0.000000    0.295044    4.000000   \n",
       "max      1.0   225.000000     1.000000    1.000000    5.398438    9.000000   \n",
       "\n",
       "       CalMins   CalCounts  MonthlyFee     OverFee  RoamingMin  \n",
       "count  483.000  483.000000    483.0000  483.000000  483.000000  \n",
       "mean       inf  101.335404     59.1875   10.625000   10.703125  \n",
       "std     69.000   21.582307     16.0625    2.585938    2.792969  \n",
       "min      0.000    0.000000     14.0000    3.550781    2.000000  \n",
       "25%    153.250   87.500000     45.0000    8.863281    8.796875  \n",
       "50%    217.625  103.000000     63.0000   10.570312   10.601562  \n",
       "75%    266.000  116.500000     69.0000   12.472656   12.796875  \n",
       "max    350.750  165.000000    110.0000   18.187500   20.000000  "
      ]
     },
     "execution_count": 45,
     "metadata": {},
     "output_type": "execute_result"
    }
   ],
   "source": [
    "old.describe()"
   ]
  },
  {
   "cell_type": "code",
   "execution_count": 46,
   "metadata": {},
   "outputs": [
    {
     "data": {
      "text/html": [
       "<div>\n",
       "<style scoped>\n",
       "    .dataframe tbody tr th:only-of-type {\n",
       "        vertical-align: middle;\n",
       "    }\n",
       "\n",
       "    .dataframe tbody tr th {\n",
       "        vertical-align: top;\n",
       "    }\n",
       "\n",
       "    .dataframe thead th {\n",
       "        text-align: right;\n",
       "    }\n",
       "</style>\n",
       "<table border=\"1\" class=\"dataframe\">\n",
       "  <thead>\n",
       "    <tr style=\"text-align: right;\">\n",
       "      <th></th>\n",
       "      <th>Leave</th>\n",
       "      <th>MemberWeeks</th>\n",
       "      <th>NewContract</th>\n",
       "      <th>IsData</th>\n",
       "      <th>DataAmount</th>\n",
       "      <th>Callcenter</th>\n",
       "      <th>CalMins</th>\n",
       "      <th>CalCounts</th>\n",
       "      <th>MonthlyFee</th>\n",
       "      <th>OverFee</th>\n",
       "      <th>RoamingMin</th>\n",
       "    </tr>\n",
       "  </thead>\n",
       "  <tbody>\n",
       "    <tr>\n",
       "      <th>count</th>\n",
       "      <td>40.0</td>\n",
       "      <td>40.000000</td>\n",
       "      <td>40.0</td>\n",
       "      <td>40.000000</td>\n",
       "      <td>40.000000</td>\n",
       "      <td>40.000000</td>\n",
       "      <td>40.00000</td>\n",
       "      <td>40.000000</td>\n",
       "      <td>40.000000</td>\n",
       "      <td>40.000000</td>\n",
       "      <td>40.000000</td>\n",
       "    </tr>\n",
       "    <tr>\n",
       "      <th>mean</th>\n",
       "      <td>0.0</td>\n",
       "      <td>46.725000</td>\n",
       "      <td>0.0</td>\n",
       "      <td>0.350000</td>\n",
       "      <td>0.971680</td>\n",
       "      <td>1.250000</td>\n",
       "      <td>173.62500</td>\n",
       "      <td>97.050000</td>\n",
       "      <td>56.562500</td>\n",
       "      <td>9.890625</td>\n",
       "      <td>9.656250</td>\n",
       "    </tr>\n",
       "    <tr>\n",
       "      <th>std</th>\n",
       "      <td>0.0</td>\n",
       "      <td>18.261614</td>\n",
       "      <td>0.0</td>\n",
       "      <td>0.483046</td>\n",
       "      <td>1.323242</td>\n",
       "      <td>0.980581</td>\n",
       "      <td>57.15625</td>\n",
       "      <td>19.473783</td>\n",
       "      <td>18.375000</td>\n",
       "      <td>2.458984</td>\n",
       "      <td>2.070312</td>\n",
       "    </tr>\n",
       "    <tr>\n",
       "      <th>min</th>\n",
       "      <td>0.0</td>\n",
       "      <td>3.000000</td>\n",
       "      <td>0.0</td>\n",
       "      <td>0.000000</td>\n",
       "      <td>0.000000</td>\n",
       "      <td>0.000000</td>\n",
       "      <td>62.31250</td>\n",
       "      <td>55.000000</td>\n",
       "      <td>28.000000</td>\n",
       "      <td>5.828125</td>\n",
       "      <td>4.500000</td>\n",
       "    </tr>\n",
       "    <tr>\n",
       "      <th>25%</th>\n",
       "      <td>0.0</td>\n",
       "      <td>37.000000</td>\n",
       "      <td>0.0</td>\n",
       "      <td>0.000000</td>\n",
       "      <td>0.000000</td>\n",
       "      <td>0.750000</td>\n",
       "      <td>139.96875</td>\n",
       "      <td>83.750000</td>\n",
       "      <td>44.000000</td>\n",
       "      <td>8.134766</td>\n",
       "      <td>8.203125</td>\n",
       "    </tr>\n",
       "    <tr>\n",
       "      <th>50%</th>\n",
       "      <td>0.0</td>\n",
       "      <td>54.500000</td>\n",
       "      <td>0.0</td>\n",
       "      <td>0.000000</td>\n",
       "      <td>0.000000</td>\n",
       "      <td>1.000000</td>\n",
       "      <td>167.37500</td>\n",
       "      <td>97.000000</td>\n",
       "      <td>53.906250</td>\n",
       "      <td>9.664062</td>\n",
       "      <td>9.750000</td>\n",
       "    </tr>\n",
       "    <tr>\n",
       "      <th>75%</th>\n",
       "      <td>0.0</td>\n",
       "      <td>61.000000</td>\n",
       "      <td>0.0</td>\n",
       "      <td>1.000000</td>\n",
       "      <td>2.415527</td>\n",
       "      <td>2.000000</td>\n",
       "      <td>220.81250</td>\n",
       "      <td>110.500000</td>\n",
       "      <td>69.453125</td>\n",
       "      <td>11.820312</td>\n",
       "      <td>11.296875</td>\n",
       "    </tr>\n",
       "    <tr>\n",
       "      <th>max</th>\n",
       "      <td>0.0</td>\n",
       "      <td>68.000000</td>\n",
       "      <td>0.0</td>\n",
       "      <td>1.000000</td>\n",
       "      <td>3.320312</td>\n",
       "      <td>3.000000</td>\n",
       "      <td>307.00000</td>\n",
       "      <td>140.000000</td>\n",
       "      <td>98.625000</td>\n",
       "      <td>15.187500</td>\n",
       "      <td>13.000000</td>\n",
       "    </tr>\n",
       "  </tbody>\n",
       "</table>\n",
       "</div>"
      ],
      "text/plain": [
       "       Leave  MemberWeeks  NewContract     IsData  DataAmount  Callcenter  \\\n",
       "count   40.0    40.000000         40.0  40.000000   40.000000   40.000000   \n",
       "mean     0.0    46.725000          0.0   0.350000    0.971680    1.250000   \n",
       "std      0.0    18.261614          0.0   0.483046    1.323242    0.980581   \n",
       "min      0.0     3.000000          0.0   0.000000    0.000000    0.000000   \n",
       "25%      0.0    37.000000          0.0   0.000000    0.000000    0.750000   \n",
       "50%      0.0    54.500000          0.0   0.000000    0.000000    1.000000   \n",
       "75%      0.0    61.000000          0.0   1.000000    2.415527    2.000000   \n",
       "max      0.0    68.000000          0.0   1.000000    3.320312    3.000000   \n",
       "\n",
       "         CalMins   CalCounts  MonthlyFee    OverFee  RoamingMin  \n",
       "count   40.00000   40.000000   40.000000  40.000000   40.000000  \n",
       "mean   173.62500   97.050000   56.562500   9.890625    9.656250  \n",
       "std     57.15625   19.473783   18.375000   2.458984    2.070312  \n",
       "min     62.31250   55.000000   28.000000   5.828125    4.500000  \n",
       "25%    139.96875   83.750000   44.000000   8.134766    8.203125  \n",
       "50%    167.37500   97.000000   53.906250   9.664062    9.750000  \n",
       "75%    220.81250  110.500000   69.453125  11.820312   11.296875  \n",
       "max    307.00000  140.000000   98.625000  15.187500   13.000000  "
      ]
     },
     "execution_count": 46,
     "metadata": {},
     "output_type": "execute_result"
    }
   ],
   "source": [
    "new.describe()"
   ]
  },
  {
   "cell_type": "code",
   "execution_count": 47,
   "metadata": {},
   "outputs": [
    {
     "data": {
      "text/html": [
       "<div>\n",
       "<style scoped>\n",
       "    .dataframe tbody tr th:only-of-type {\n",
       "        vertical-align: middle;\n",
       "    }\n",
       "\n",
       "    .dataframe tbody tr th {\n",
       "        vertical-align: top;\n",
       "    }\n",
       "\n",
       "    .dataframe thead th {\n",
       "        text-align: right;\n",
       "    }\n",
       "</style>\n",
       "<table border=\"1\" class=\"dataframe\">\n",
       "  <thead>\n",
       "    <tr style=\"text-align: right;\">\n",
       "      <th></th>\n",
       "      <th>Leave</th>\n",
       "      <th>MemberWeeks</th>\n",
       "      <th>NewContract</th>\n",
       "      <th>IsData</th>\n",
       "      <th>DataAmount</th>\n",
       "      <th>Callcenter</th>\n",
       "      <th>CalMins</th>\n",
       "      <th>CalCounts</th>\n",
       "      <th>MonthlyFee</th>\n",
       "      <th>OverFee</th>\n",
       "      <th>RoamingMin</th>\n",
       "    </tr>\n",
       "  </thead>\n",
       "  <tbody>\n",
       "    <tr>\n",
       "      <th>count</th>\n",
       "      <td>2810.0</td>\n",
       "      <td>2810.000000</td>\n",
       "      <td>2810.000000</td>\n",
       "      <td>2810.000000</td>\n",
       "      <td>2810.000000</td>\n",
       "      <td>2810.000000</td>\n",
       "      <td>2810.00000</td>\n",
       "      <td>2810.000000</td>\n",
       "      <td>2810.000000</td>\n",
       "      <td>2810.000000</td>\n",
       "      <td>2810.000000</td>\n",
       "    </tr>\n",
       "    <tr>\n",
       "      <th>mean</th>\n",
       "      <td>0.0</td>\n",
       "      <td>101.563345</td>\n",
       "      <td>0.948043</td>\n",
       "      <td>0.294662</td>\n",
       "      <td>0.860352</td>\n",
       "      <td>1.452669</td>\n",
       "      <td>inf</td>\n",
       "      <td>100.329181</td>\n",
       "      <td>inf</td>\n",
       "      <td>9.953125</td>\n",
       "      <td>10.164062</td>\n",
       "    </tr>\n",
       "    <tr>\n",
       "      <th>std</th>\n",
       "      <td>0.0</td>\n",
       "      <td>39.577770</td>\n",
       "      <td>0.221980</td>\n",
       "      <td>0.455972</td>\n",
       "      <td>1.286133</td>\n",
       "      <td>1.166185</td>\n",
       "      <td>50.09375</td>\n",
       "      <td>19.805377</td>\n",
       "      <td>16.421875</td>\n",
       "      <td>2.515625</td>\n",
       "      <td>2.792969</td>\n",
       "    </tr>\n",
       "    <tr>\n",
       "      <th>min</th>\n",
       "      <td>0.0</td>\n",
       "      <td>1.000000</td>\n",
       "      <td>0.000000</td>\n",
       "      <td>0.000000</td>\n",
       "      <td>0.000000</td>\n",
       "      <td>0.000000</td>\n",
       "      <td>0.00000</td>\n",
       "      <td>0.000000</td>\n",
       "      <td>15.703125</td>\n",
       "      <td>0.000000</td>\n",
       "      <td>0.000000</td>\n",
       "    </tr>\n",
       "    <tr>\n",
       "      <th>25%</th>\n",
       "      <td>0.0</td>\n",
       "      <td>74.000000</td>\n",
       "      <td>1.000000</td>\n",
       "      <td>0.000000</td>\n",
       "      <td>0.000000</td>\n",
       "      <td>1.000000</td>\n",
       "      <td>143.12500</td>\n",
       "      <td>87.000000</td>\n",
       "      <td>45.000000</td>\n",
       "      <td>8.226562</td>\n",
       "      <td>8.398438</td>\n",
       "    </tr>\n",
       "    <tr>\n",
       "      <th>50%</th>\n",
       "      <td>0.0</td>\n",
       "      <td>101.000000</td>\n",
       "      <td>1.000000</td>\n",
       "      <td>0.000000</td>\n",
       "      <td>0.000000</td>\n",
       "      <td>1.000000</td>\n",
       "      <td>177.25000</td>\n",
       "      <td>100.500000</td>\n",
       "      <td>53.000000</td>\n",
       "      <td>9.992188</td>\n",
       "      <td>10.203125</td>\n",
       "    </tr>\n",
       "    <tr>\n",
       "      <th>75%</th>\n",
       "      <td>0.0</td>\n",
       "      <td>128.000000</td>\n",
       "      <td>1.000000</td>\n",
       "      <td>1.000000</td>\n",
       "      <td>2.000000</td>\n",
       "      <td>2.000000</td>\n",
       "      <td>210.09375</td>\n",
       "      <td>114.000000</td>\n",
       "      <td>64.468750</td>\n",
       "      <td>11.656250</td>\n",
       "      <td>12.000000</td>\n",
       "    </tr>\n",
       "    <tr>\n",
       "      <th>max</th>\n",
       "      <td>0.0</td>\n",
       "      <td>243.000000</td>\n",
       "      <td>1.000000</td>\n",
       "      <td>1.000000</td>\n",
       "      <td>4.750000</td>\n",
       "      <td>8.000000</td>\n",
       "      <td>315.50000</td>\n",
       "      <td>163.000000</td>\n",
       "      <td>111.312500</td>\n",
       "      <td>18.093750</td>\n",
       "      <td>18.906250</td>\n",
       "    </tr>\n",
       "  </tbody>\n",
       "</table>\n",
       "</div>"
      ],
      "text/plain": [
       "        Leave  MemberWeeks  NewContract       IsData   DataAmount  \\\n",
       "count  2810.0  2810.000000  2810.000000  2810.000000  2810.000000   \n",
       "mean      0.0   101.563345     0.948043     0.294662     0.860352   \n",
       "std       0.0    39.577770     0.221980     0.455972     1.286133   \n",
       "min       0.0     1.000000     0.000000     0.000000     0.000000   \n",
       "25%       0.0    74.000000     1.000000     0.000000     0.000000   \n",
       "50%       0.0   101.000000     1.000000     0.000000     0.000000   \n",
       "75%       0.0   128.000000     1.000000     1.000000     2.000000   \n",
       "max       0.0   243.000000     1.000000     1.000000     4.750000   \n",
       "\n",
       "        Callcenter     CalMins    CalCounts   MonthlyFee      OverFee  \\\n",
       "count  2810.000000  2810.00000  2810.000000  2810.000000  2810.000000   \n",
       "mean      1.452669         inf   100.329181          inf     9.953125   \n",
       "std       1.166185    50.09375    19.805377    16.421875     2.515625   \n",
       "min       0.000000     0.00000     0.000000    15.703125     0.000000   \n",
       "25%       1.000000   143.12500    87.000000    45.000000     8.226562   \n",
       "50%       1.000000   177.25000   100.500000    53.000000     9.992188   \n",
       "75%       2.000000   210.09375   114.000000    64.468750    11.656250   \n",
       "max       8.000000   315.50000   163.000000   111.312500    18.093750   \n",
       "\n",
       "        RoamingMin  \n",
       "count  2810.000000  \n",
       "mean     10.164062  \n",
       "std       2.792969  \n",
       "min       0.000000  \n",
       "25%       8.398438  \n",
       "50%      10.203125  \n",
       "75%      12.000000  \n",
       "max      18.906250  "
      ]
     },
     "execution_count": 47,
     "metadata": {},
     "output_type": "execute_result"
    }
   ],
   "source": [
    "ing.describe()"
   ]
  },
  {
   "cell_type": "markdown",
   "metadata": {},
   "source": [
    "# ★★★★★\n",
    "## 자! 이제, 10가지 칼럼들에 대해, old new ing 세 집단을 비교해보겠습니다!"
   ]
  },
  {
   "cell_type": "markdown",
   "metadata": {},
   "source": [
    "#### old = (옛날 고객) = (지금은 X)\n",
    "#### new = (신규 고객)\n",
    "#### ing = (기존 고객) = (지금도 O)"
   ]
  },
  {
   "cell_type": "markdown",
   "metadata": {},
   "source": [
    "### 1. MemberWeeks 비교"
   ]
  },
  {
   "cell_type": "code",
   "execution_count": 48,
   "metadata": {},
   "outputs": [
    {
     "data": {
      "text/plain": [
       "<AxesSubplot:ylabel='Frequency'>"
      ]
     },
     "execution_count": 48,
     "metadata": {},
     "output_type": "execute_result"
    },
    {
     "data": {
      "image/png": "[encoded data removed]",
      "text/plain": [
       "<Figure size 432x288 with 1 Axes>"
      ]
     },
     "metadata": {
      "needs_background": "light"
     },
     "output_type": "display_data"
    }
   ],
   "source": [
    "old.MemberWeeks.plot(kind='hist')"
   ]
  },
  {
   "cell_type": "code",
   "execution_count": 49,
   "metadata": {},
   "outputs": [
    {
     "data": {
      "text/plain": [
       "<AxesSubplot:ylabel='Frequency'>"
      ]
     },
     "execution_count": 49,
     "metadata": {},
     "output_type": "execute_result"
    },
    {
     "data": {
      "image/png": "[encoded data removed]",
      "text/plain": [
       "<Figure size 432x288 with 1 Axes>"
      ]
     },
     "metadata": {
      "needs_background": "light"
     },
     "output_type": "display_data"
    }
   ],
   "source": [
    "new.MemberWeeks.plot(kind='hist')"
   ]
  },
  {
   "cell_type": "code",
   "execution_count": 50,
   "metadata": {},
   "outputs": [
    {
     "data": {
      "text/plain": [
       "<AxesSubplot:ylabel='Frequency'>"
      ]
     },
     "execution_count": 50,
     "metadata": {},
     "output_type": "execute_result"
    },
    {
     "data": {
      "image/png": "[encoded data removed]",
      "text/plain": [
       "<Figure size 432x288 with 1 Axes>"
      ]
     },
     "metadata": {
      "needs_background": "light"
     },
     "output_type": "display_data"
    }
   ],
   "source": [
    "ing.MemberWeeks.plot(kind='hist')"
   ]
  },
  {
   "cell_type": "markdown",
   "metadata": {},
   "source": [
    "#### 아까 위에서, 정리한대로, new 는 전부 70 이하이고, old 와 ing 는 매우 비슷한 띄는 것을 알 수 있습니다!!"
   ]
  },
  {
   "cell_type": "markdown",
   "metadata": {},
   "source": [
    "### 2. IsData 비교\n",
    "##### : 데이터요금제사용여부(1이면 사용)"
   ]
  },
  {
   "cell_type": "code",
   "execution_count": 51,
   "metadata": {},
   "outputs": [
    {
     "data": {
      "text/plain": [
       "<AxesSubplot:ylabel='Frequency'>"
      ]
     },
     "execution_count": 51,
     "metadata": {},
     "output_type": "execute_result"
    },
    {
     "data": {
      "image/png": "[encoded data removed]",
      "text/plain": [
       "<Figure size 432x288 with 1 Axes>"
      ]
     },
     "metadata": {
      "needs_background": "light"
     },
     "output_type": "display_data"
    }
   ],
   "source": [
    "old.IsData.plot(kind='hist')"
   ]
  },
  {
   "cell_type": "code",
   "execution_count": 52,
   "metadata": {},
   "outputs": [
    {
     "data": {
      "text/plain": [
       "0    0.834369\n",
       "1    0.165631\n",
       "Name: IsData, dtype: float64"
      ]
     },
     "execution_count": 52,
     "metadata": {},
     "output_type": "execute_result"
    }
   ],
   "source": [
    "old.IsData.value_counts(normalize=True)"
   ]
  },
  {
   "cell_type": "code",
   "execution_count": 53,
   "metadata": {},
   "outputs": [
    {
     "data": {
      "text/plain": [
       "<AxesSubplot:ylabel='Frequency'>"
      ]
     },
     "execution_count": 53,
     "metadata": {},
     "output_type": "execute_result"
    },
    {
     "data": {
      "image/png": "[encoded data removed]",
      "text/plain": [
       "<Figure size 432x288 with 1 Axes>"
      ]
     },
     "metadata": {
      "needs_background": "light"
     },
     "output_type": "display_data"
    }
   ],
   "source": [
    "new.IsData.plot(kind='hist')"
   ]
  },
  {
   "cell_type": "code",
   "execution_count": 54,
   "metadata": {},
   "outputs": [
    {
     "data": {
      "text/plain": [
       "0    0.65\n",
       "1    0.35\n",
       "Name: IsData, dtype: float64"
      ]
     },
     "execution_count": 54,
     "metadata": {},
     "output_type": "execute_result"
    }
   ],
   "source": [
    "new.IsData.value_counts(normalize=True)"
   ]
  },
  {
   "cell_type": "code",
   "execution_count": 55,
   "metadata": {},
   "outputs": [
    {
     "data": {
      "text/plain": [
       "<AxesSubplot:ylabel='Frequency'>"
      ]
     },
     "execution_count": 55,
     "metadata": {},
     "output_type": "execute_result"
    },
    {
     "data": {
      "image/png": "[encoded data removed]",
      "text/plain": [
       "<Figure size 432x288 with 1 Axes>"
      ]
     },
     "metadata": {
      "needs_background": "light"
     },
     "output_type": "display_data"
    }
   ],
   "source": [
    "ing.IsData.plot(kind='hist')"
   ]
  },
  {
   "cell_type": "code",
   "execution_count": 56,
   "metadata": {},
   "outputs": [
    {
     "data": {
      "text/plain": [
       "0    0.705338\n",
       "1    0.294662\n",
       "Name: IsData, dtype: float64"
      ]
     },
     "execution_count": 56,
     "metadata": {},
     "output_type": "execute_result"
    }
   ],
   "source": [
    "ing.IsData.value_counts(normalize=True)"
   ]
  },
  {
   "cell_type": "markdown",
   "metadata": {},
   "source": [
    "#### 공통점 : 모두, 과반수가 데이터요금제를 사용하는 것으로 나왔습니다.\n",
    "#### 차이점 : (데이터요금제O, X) \n",
    "#### old = (83%, 17%) new = (65%, 35%) ing = (71%, 29%)\n",
    "#### >>> (옛날 고객) 의 데이터 요금제 사용이 가장 컸고, 그리고 (기존 고객), 마지막으로 (신규 고객) 순으로 데이터 사용량이 줄어듭니다."
   ]
  },
  {
   "cell_type": "markdown",
   "metadata": {},
   "source": [
    "### 3. NewContract 비교\n",
    "###### : 가입갱신여부(1이면 갱신)"
   ]
  },
  {
   "cell_type": "code",
   "execution_count": 57,
   "metadata": {},
   "outputs": [
    {
     "data": {
      "text/plain": [
       "<AxesSubplot:ylabel='Frequency'>"
      ]
     },
     "execution_count": 57,
     "metadata": {},
     "output_type": "execute_result"
    },
    {
     "data": {
      "image/png": "[encoded data removed]",
      "text/plain": [
       "<Figure size 432x288 with 1 Axes>"
      ]
     },
     "metadata": {
      "needs_background": "light"
     },
     "output_type": "display_data"
    }
   ],
   "source": [
    "old.NewContract.plot(kind='hist')"
   ]
  },
  {
   "cell_type": "code",
   "execution_count": 58,
   "metadata": {},
   "outputs": [
    {
     "data": {
      "text/plain": [
       "1    0.716356\n",
       "0    0.283644\n",
       "Name: NewContract, dtype: float64"
      ]
     },
     "execution_count": 58,
     "metadata": {},
     "output_type": "execute_result"
    }
   ],
   "source": [
    "old.NewContract.value_counts(normalize=True)"
   ]
  },
  {
   "cell_type": "code",
   "execution_count": 59,
   "metadata": {},
   "outputs": [
    {
     "data": {
      "text/plain": [
       "<AxesSubplot:ylabel='Frequency'>"
      ]
     },
     "execution_count": 59,
     "metadata": {},
     "output_type": "execute_result"
    },
    {
     "data": {
      "image/png": "[encoded data removed]",
      "text/plain": [
       "<Figure size 432x288 with 1 Axes>"
      ]
     },
     "metadata": {
      "needs_background": "light"
     },
     "output_type": "display_data"
    }
   ],
   "source": [
    "new.NewContract.plot(kind='hist')"
   ]
  },
  {
   "cell_type": "code",
   "execution_count": 60,
   "metadata": {},
   "outputs": [
    {
     "data": {
      "text/plain": [
       "0    1.0\n",
       "Name: NewContract, dtype: float64"
      ]
     },
     "execution_count": 60,
     "metadata": {},
     "output_type": "execute_result"
    }
   ],
   "source": [
    "new.NewContract.value_counts(normalize=True)"
   ]
  },
  {
   "cell_type": "code",
   "execution_count": 61,
   "metadata": {},
   "outputs": [
    {
     "data": {
      "text/plain": [
       "<AxesSubplot:ylabel='Frequency'>"
      ]
     },
     "execution_count": 61,
     "metadata": {},
     "output_type": "execute_result"
    },
    {
     "data": {
      "image/png": "[encoded data removed]",
      "text/plain": [
       "<Figure size 432x288 with 1 Axes>"
      ]
     },
     "metadata": {
      "needs_background": "light"
     },
     "output_type": "display_data"
    }
   ],
   "source": [
    "ing.NewContract.plot(kind='hist')"
   ]
  },
  {
   "cell_type": "code",
   "execution_count": 62,
   "metadata": {},
   "outputs": [
    {
     "data": {
      "text/plain": [
       "1    0.948043\n",
       "0    0.051957\n",
       "Name: NewContract, dtype: float64"
      ]
     },
     "execution_count": 62,
     "metadata": {},
     "output_type": "execute_result"
    }
   ],
   "source": [
    "ing.NewContract.value_counts(normalize=True)"
   ]
  },
  {
   "cell_type": "markdown",
   "metadata": {},
   "source": [
    "#### 공통점 : 모두, 과반수가 (가입갱신) 을 한 것으로 나타났습니다.\n",
    "#### 차이점 : (1) 당연한 이야기지만, (신규고객) 은 모두 (가입갱신) (X) 하지 않은 것으로 나왔습니다.\n",
    "#### (2) : (기존 고객) 은 압도적으로, (가입 갱신)을 많이 한 것으로 나타났습니다.  >>> 이것도 사실, 당연한 얘기죠?\n",
    "#### (3) : (옛날 고객) 은 71% 정도 (가입 갱신)을 했던 것으로 나타났습니다."
   ]
  },
  {
   "cell_type": "markdown",
   "metadata": {},
   "source": [
    "#### ★ 여기서 잠깐!  궁금해집니다.\n",
    "#### (옛날 고객) 들중에 (가입 갱신)을 하지 않은 고객들은, 어떤 특징이 있을까요?\n",
    "##### >>> 1. 약정 갱신을 귀찮아서 안한 케이스\n",
    "##### >>> 2. 약정 갱신을 할 수 있는지 모르거나 (거의 없겠지만,,ㅎㅎ)\n",
    "##### >>> 3. 약정 2년이 지났지만, 쓰던 폰을 3년, 4년.. 계속 사용하는 케이스.\n",
    "##### >>> 4. 또, 요금할인을 모르고, 약정 갱신을 안하는 사람들.  \n",
    "##### 도 있을 것 같습니다.\n",
    "##### ★ 1,2,3,4 케이스 "
   ]
  },
  {
   "cell_type": "markdown",
   "metadata": {},
   "source": [
    "### 4. DataAmount   \n",
    "##### : 데이터사용량(GB)"
   ]
  },
  {
   "cell_type": "code",
   "execution_count": 63,
   "metadata": {},
   "outputs": [
    {
     "data": {
      "text/plain": [
       "<AxesSubplot:ylabel='Frequency'>"
      ]
     },
     "execution_count": 63,
     "metadata": {},
     "output_type": "execute_result"
    },
    {
     "data": {
      "image/png": "[encoded data removed]",
      "text/plain": [
       "<Figure size 432x288 with 1 Axes>"
      ]
     },
     "metadata": {
      "needs_background": "light"
     },
     "output_type": "display_data"
    }
   ],
   "source": [
    "old.DataAmount.plot(kind='hist')"
   ]
  },
  {
   "cell_type": "code",
   "execution_count": 64,
   "metadata": {},
   "outputs": [
    {
     "data": {
      "text/plain": [
       "<AxesSubplot:ylabel='Frequency'>"
      ]
     },
     "execution_count": 64,
     "metadata": {},
     "output_type": "execute_result"
    },
    {
     "data": {
      "image/png": "[encoded data removed]",
      "text/plain": [
       "<Figure size 432x288 with 1 Axes>"
      ]
     },
     "metadata": {
      "needs_background": "light"
     },
     "output_type": "display_data"
    }
   ],
   "source": [
    "new.DataAmount.plot(kind='hist')"
   ]
  },
  {
   "cell_type": "markdown",
   "metadata": {},
   "source": [
    "#### 특이하게, new = (신규 고객) 만, 데이터사용량이 3기가가 넘는 사람의 비율이 10%정도 돼 보입니다."
   ]
  },
  {
   "cell_type": "code",
   "execution_count": 65,
   "metadata": {},
   "outputs": [
    {
     "data": {
      "text/plain": [
       "<AxesSubplot:ylabel='Frequency'>"
      ]
     },
     "execution_count": 65,
     "metadata": {},
     "output_type": "execute_result"
    },
    {
     "data": {
      "image/png": "[encoded data removed]",
      "text/plain": [
       "<Figure size 432x288 with 1 Axes>"
      ]
     },
     "metadata": {
      "needs_background": "light"
     },
     "output_type": "display_data"
    }
   ],
   "source": [
    "ing.DataAmount.plot(kind='hist')"
   ]
  },
  {
   "cell_type": "markdown",
   "metadata": {},
   "source": [
    "## DataAmounts 에서, 데이터 = 0 의 비중이 90프로가 넘죠?  너무 큽니다!\n",
    "# ★★★ 0 빼고 보겠습니다!"
   ]
  },
  {
   "cell_type": "code",
   "execution_count": 66,
   "metadata": {},
   "outputs": [],
   "source": [
    "cellphone = phone[phone['DataAmount'] > 1]         # 1 이상만 따로 남기기."
   ]
  },
  {
   "cell_type": "code",
   "execution_count": 67,
   "metadata": {},
   "outputs": [
    {
     "data": {
      "text/plain": [
       "<AxesSubplot:ylabel='Frequency'>"
      ]
     },
     "execution_count": 67,
     "metadata": {},
     "output_type": "execute_result"
    },
    {
     "data": {
      "image/png": "[encoded data removed]",
      "text/plain": [
       "<Figure size 432x288 with 1 Axes>"
      ]
     },
     "metadata": {
      "needs_background": "light"
     },
     "output_type": "display_data"
    }
   ],
   "source": [
    "cellphone.DataAmount.plot(kind='hist')"
   ]
  },
  {
   "cell_type": "code",
   "execution_count": 68,
   "metadata": {},
   "outputs": [],
   "source": [
    "cellphone2 = cellphone.DataAmount.apply(pd.Series.value_counts, bins=[i for i in range(1, 7)]).sum(axis=0)"
   ]
  },
  {
   "cell_type": "code",
   "execution_count": 69,
   "metadata": {},
   "outputs": [
    {
     "data": {
      "text/plain": [
       "(0.999, 2.0]    131\n",
       "(2.0, 3.0]      433\n",
       "(3.0, 4.0]      307\n",
       "(4.0, 5.0]       41\n",
       "(5.0, 6.0]        1\n",
       "dtype: int64"
      ]
     },
     "execution_count": 69,
     "metadata": {},
     "output_type": "execute_result"
    }
   ],
   "source": [
    "cellphone2.sort_index(ascending=True)"
   ]
  },
  {
   "cell_type": "code",
   "execution_count": 70,
   "metadata": {},
   "outputs": [],
   "source": [
    "cellphone2 = cellphone2.sort_index(ascending=True)"
   ]
  },
  {
   "cell_type": "code",
   "execution_count": 71,
   "metadata": {},
   "outputs": [
    {
     "name": "stderr",
     "output_type": "stream",
     "text": [
      "C:\\Users\\chemy\\anaconda3\\lib\\site-packages\\matplotlib\\backends\\backend_agg.py:238: RuntimeWarning: Glyph 48708 missing from current font.\n",
      "  font.set_text(s, 0.0, flags=flags)\n",
      "C:\\Users\\chemy\\anaconda3\\lib\\site-packages\\matplotlib\\backends\\backend_agg.py:238: RuntimeWarning: Glyph 50984 missing from current font.\n",
      "  font.set_text(s, 0.0, flags=flags)\n",
      "C:\\Users\\chemy\\anaconda3\\lib\\site-packages\\matplotlib\\backends\\backend_agg.py:201: RuntimeWarning: Glyph 48708 missing from current font.\n",
      "  font.set_text(s, 0, flags=flags)\n",
      "C:\\Users\\chemy\\anaconda3\\lib\\site-packages\\matplotlib\\backends\\backend_agg.py:201: RuntimeWarning: Glyph 50984 missing from current font.\n",
      "  font.set_text(s, 0, flags=flags)\n"
     ]
    },
    {
     "data": {
      "image/png": "[encoded data removed]",
      "text/plain": [
       "<Figure size 864x864 with 1 Axes>"
      ]
     },
     "metadata": {},
     "output_type": "display_data"
    }
   ],
   "source": [
    "pie_chart = cellphone2.plot.pie(autopct='%0.1f%%', figsize=(12, 12), labels=['1~2', '2~3', '3~4', '4~5', '5~6'], startangle = 90, textprops={'fontsize': 10})\n",
    "pie_chart.set_title('DataAmount : 1 ~ 7 비율', size=25)\n",
    "pie_chart.set_ylabel('Count')\n",
    "plt.rcParams[\"font.family\"] = 'Malgun Gothic'"
   ]
  },
  {
   "cell_type": "markdown",
   "metadata": {},
   "source": [
    "#### 1인당 데이터 사용량의 모습은, 2~3 기가 정도 사용하는 사람이 47% 나 되구요.\n",
    "#### 그 다음, 3~4 기가 = 33%, \n",
    "#### 1~2 기가 = 14% \n",
    "#### 4~5 기가 = 4.5%\n",
    "#### 5~6 기가 = 0.1% 입니다."
   ]
  },
  {
   "cell_type": "markdown",
   "metadata": {},
   "source": [
    "### 5. Callcenter   \n",
    "##### : 고객센터전화량"
   ]
  },
  {
   "cell_type": "code",
   "execution_count": 72,
   "metadata": {},
   "outputs": [
    {
     "data": {
      "text/plain": [
       "<AxesSubplot:ylabel='Frequency'>"
      ]
     },
     "execution_count": 72,
     "metadata": {},
     "output_type": "execute_result"
    },
    {
     "data": {
      "image/png": "[encoded data removed]",
      "text/plain": [
       "<Figure size 432x288 with 1 Axes>"
      ]
     },
     "metadata": {
      "needs_background": "light"
     },
     "output_type": "display_data"
    }
   ],
   "source": [
    "old.Callcenter.plot(kind='hist')"
   ]
  },
  {
   "cell_type": "code",
   "execution_count": 73,
   "metadata": {},
   "outputs": [
    {
     "data": {
      "text/plain": [
       "1    122\n",
       "0     92\n",
       "2     87\n",
       "4     76\n",
       "3     44\n",
       "5     40\n",
       "6     14\n",
       "7      5\n",
       "9      2\n",
       "8      1\n",
       "Name: Callcenter, dtype: int64"
      ]
     },
     "execution_count": 73,
     "metadata": {},
     "output_type": "execute_result"
    }
   ],
   "source": [
    "old.Callcenter.value_counts(ascending=False)"
   ]
  },
  {
   "cell_type": "code",
   "execution_count": 74,
   "metadata": {},
   "outputs": [
    {
     "data": {
      "text/plain": [
       "<AxesSubplot:ylabel='Frequency'>"
      ]
     },
     "execution_count": 74,
     "metadata": {},
     "output_type": "execute_result"
    },
    {
     "data": {
      "image/png": "[encoded data removed]",
      "text/plain": [
       "<Figure size 432x288 with 1 Axes>"
      ]
     },
     "metadata": {
      "needs_background": "light"
     },
     "output_type": "display_data"
    }
   ],
   "source": [
    "new.Callcenter.plot(kind='hist')"
   ]
  },
  {
   "cell_type": "code",
   "execution_count": 75,
   "metadata": {},
   "outputs": [
    {
     "data": {
      "text/plain": [
       "1    15\n",
       "2    10\n",
       "0    10\n",
       "3     5\n",
       "Name: Callcenter, dtype: int64"
      ]
     },
     "execution_count": 75,
     "metadata": {},
     "output_type": "execute_result"
    }
   ],
   "source": [
    "new.Callcenter.value_counts(ascending=False)"
   ]
  },
  {
   "cell_type": "code",
   "execution_count": 76,
   "metadata": {},
   "outputs": [
    {
     "data": {
      "text/plain": [
       "<AxesSubplot:ylabel='Frequency'>"
      ]
     },
     "execution_count": 76,
     "metadata": {},
     "output_type": "execute_result"
    },
    {
     "data": {
      "image/png": "[encoded data removed]",
      "text/plain": [
       "<Figure size 432x288 with 1 Axes>"
      ]
     },
     "metadata": {
      "needs_background": "light"
     },
     "output_type": "display_data"
    }
   ],
   "source": [
    "ing.Callcenter.plot(kind='hist')"
   ]
  },
  {
   "cell_type": "code",
   "execution_count": 77,
   "metadata": {},
   "outputs": [
    {
     "data": {
      "text/plain": [
       "1    1044\n",
       "2     662\n",
       "0     595\n",
       "3     380\n",
       "4      90\n",
       "5      26\n",
       "6       8\n",
       "7       4\n",
       "8       1\n",
       "Name: Callcenter, dtype: int64"
      ]
     },
     "execution_count": 77,
     "metadata": {},
     "output_type": "execute_result"
    }
   ],
   "source": [
    "ing.Callcenter.value_counts(ascending=False)"
   ]
  },
  {
   "cell_type": "markdown",
   "metadata": {},
   "source": [
    "##### 의외의 결과가 나왔습니다.\n",
    "##### (new) (신규 고객) 들은 아무리 많이 전화를 했어도, 3번을 넘지 않네요.\n",
    "##### >>> 서비스 만족했기 때문에, 전화를 덜 했으리라 추정해봅니다.\n",
    "##### 물론, (old) (ing) 역시, (0,1,2,3) 의 비중이 매우 크지만,\n",
    "##### 4,5,6,7,8, 많으면 9회까지 나온 것을 볼 수 있습니다.\n",
    "##### 참고로, 9회 가 나온 칼럼은, 유일하게 (old) (2명) 입니다.\n",
    "##### >>> 서비스에 불만족해서, 9번이나 전화했겠죠?  그러니까, 통신사를 옮겼을 것이구요."
   ]
  },
  {
   "cell_type": "markdown",
   "metadata": {},
   "source": [
    "### 6. CalMins\n",
    "##### : 월평균전화량(분)"
   ]
  },
  {
   "cell_type": "code",
   "execution_count": 78,
   "metadata": {},
   "outputs": [
    {
     "data": {
      "text/plain": [
       "<AxesSubplot:ylabel='Frequency'>"
      ]
     },
     "execution_count": 78,
     "metadata": {},
     "output_type": "execute_result"
    },
    {
     "data": {
      "image/png": "[encoded data removed]",
      "text/plain": [
       "<Figure size 432x288 with 1 Axes>"
      ]
     },
     "metadata": {
      "needs_background": "light"
     },
     "output_type": "display_data"
    }
   ],
   "source": [
    "old.CalMins.plot(kind='hist')"
   ]
  },
  {
   "cell_type": "code",
   "execution_count": 79,
   "metadata": {},
   "outputs": [
    {
     "data": {
      "text/plain": [
       "<AxesSubplot:ylabel='Frequency'>"
      ]
     },
     "execution_count": 79,
     "metadata": {},
     "output_type": "execute_result"
    },
    {
     "data": {
      "image/png": "[encoded data removed]",
      "text/plain": [
       "<Figure size 432x288 with 1 Axes>"
      ]
     },
     "metadata": {
      "needs_background": "light"
     },
     "output_type": "display_data"
    }
   ],
   "source": [
    "new.CalMins.plot(kind='hist')"
   ]
  },
  {
   "cell_type": "code",
   "execution_count": 80,
   "metadata": {},
   "outputs": [
    {
     "data": {
      "text/plain": [
       "<AxesSubplot:ylabel='Frequency'>"
      ]
     },
     "execution_count": 80,
     "metadata": {},
     "output_type": "execute_result"
    },
    {
     "data": {
      "image/png": "[encoded data removed]",
      "text/plain": [
       "<Figure size 432x288 with 1 Axes>"
      ]
     },
     "metadata": {
      "needs_background": "light"
     },
     "output_type": "display_data"
    }
   ],
   "source": [
    "ing.CalMins.plot(kind='hist')"
   ]
  },
  {
   "cell_type": "markdown",
   "metadata": {},
   "source": [
    "##### (old) 와 (ing) 는 월평균전화량 히스토그램이 매우 흡사한, 정규분포 모양을 띄는 것을 알 수 있습니다.\n",
    "##### 그런데, (new) 는 약간 다르게, (0~135분 정도까지) 앞부분이죠? 상대적으로 높은 비중을 차지하는 것을 볼 수 있습니다. "
   ]
  },
  {
   "cell_type": "markdown",
   "metadata": {},
   "source": [
    "### 7. CalCounts\n",
    "##### : 월평균전화수(횟수)"
   ]
  },
  {
   "cell_type": "code",
   "execution_count": 81,
   "metadata": {},
   "outputs": [
    {
     "data": {
      "text/plain": [
       "<AxesSubplot:ylabel='Frequency'>"
      ]
     },
     "execution_count": 81,
     "metadata": {},
     "output_type": "execute_result"
    },
    {
     "data": {
      "image/png": "[encoded data removed]",
      "text/plain": [
       "<Figure size 432x288 with 1 Axes>"
      ]
     },
     "metadata": {
      "needs_background": "light"
     },
     "output_type": "display_data"
    }
   ],
   "source": [
    "old.CalCounts.plot(kind='hist')"
   ]
  },
  {
   "cell_type": "code",
   "execution_count": 82,
   "metadata": {},
   "outputs": [
    {
     "data": {
      "text/plain": [
       "<AxesSubplot:ylabel='Frequency'>"
      ]
     },
     "execution_count": 82,
     "metadata": {},
     "output_type": "execute_result"
    },
    {
     "data": {
      "image/png": "[encoded data removed]",
      "text/plain": [
       "<Figure size 432x288 with 1 Axes>"
      ]
     },
     "metadata": {
      "needs_background": "light"
     },
     "output_type": "display_data"
    }
   ],
   "source": [
    "new.CalCounts.plot(kind='hist')"
   ]
  },
  {
   "cell_type": "code",
   "execution_count": 83,
   "metadata": {},
   "outputs": [
    {
     "data": {
      "text/plain": [
       "<AxesSubplot:ylabel='Frequency'>"
      ]
     },
     "execution_count": 83,
     "metadata": {},
     "output_type": "execute_result"
    },
    {
     "data": {
      "image/png": "[encoded data removed]",
      "text/plain": [
       "<Figure size 432x288 with 1 Axes>"
      ]
     },
     "metadata": {
      "needs_background": "light"
     },
     "output_type": "display_data"
    }
   ],
   "source": [
    "ing.CalCounts.plot(kind='hist')"
   ]
  },
  {
   "cell_type": "code",
   "execution_count": 84,
   "metadata": {},
   "outputs": [
    {
     "data": {
      "text/plain": [
       "0"
      ]
     },
     "execution_count": 84,
     "metadata": {},
     "output_type": "execute_result"
    }
   ],
   "source": [
    "old.CalCounts.min()"
   ]
  },
  {
   "cell_type": "code",
   "execution_count": 85,
   "metadata": {},
   "outputs": [
    {
     "data": {
      "text/plain": [
       "55"
      ]
     },
     "execution_count": 85,
     "metadata": {},
     "output_type": "execute_result"
    }
   ],
   "source": [
    "new.CalCounts.min()"
   ]
  },
  {
   "cell_type": "code",
   "execution_count": 86,
   "metadata": {},
   "outputs": [
    {
     "data": {
      "text/plain": [
       "0"
      ]
     },
     "execution_count": 86,
     "metadata": {},
     "output_type": "execute_result"
    }
   ],
   "source": [
    "ing.CalCounts.min()"
   ]
  },
  {
   "cell_type": "markdown",
   "metadata": {},
   "source": [
    "##### 아까 (new) 를 정의할 때, phone['MemberWeeks'] <= 70   라고 했기 때문에,\n",
    "##### (통화횟수)에 0인 값이 아예 없는, 약간의 오차가 발생한 것 같습니다. "
   ]
  },
  {
   "cell_type": "markdown",
   "metadata": {},
   "source": [
    "### 8. MonthlyFee\n",
    "##### : 월평균요금"
   ]
  },
  {
   "cell_type": "code",
   "execution_count": 87,
   "metadata": {},
   "outputs": [
    {
     "data": {
      "text/plain": [
       "<AxesSubplot:ylabel='Frequency'>"
      ]
     },
     "execution_count": 87,
     "metadata": {},
     "output_type": "execute_result"
    },
    {
     "data": {
      "image/png": "[encoded data removed]",
      "text/plain": [
       "<Figure size 432x288 with 1 Axes>"
      ]
     },
     "metadata": {
      "needs_background": "light"
     },
     "output_type": "display_data"
    }
   ],
   "source": [
    "old.MonthlyFee.plot(kind='hist')"
   ]
  },
  {
   "cell_type": "code",
   "execution_count": 88,
   "metadata": {},
   "outputs": [
    {
     "data": {
      "text/plain": [
       "<AxesSubplot:ylabel='Frequency'>"
      ]
     },
     "execution_count": 88,
     "metadata": {},
     "output_type": "execute_result"
    },
    {
     "data": {
      "image/png": "[encoded data removed]",
      "text/plain": [
       "<Figure size 432x288 with 1 Axes>"
      ]
     },
     "metadata": {
      "needs_background": "light"
     },
     "output_type": "display_data"
    }
   ],
   "source": [
    "new.MonthlyFee.plot(kind='hist')"
   ]
  },
  {
   "cell_type": "code",
   "execution_count": 89,
   "metadata": {},
   "outputs": [
    {
     "data": {
      "text/plain": [
       "<AxesSubplot:ylabel='Frequency'>"
      ]
     },
     "execution_count": 89,
     "metadata": {},
     "output_type": "execute_result"
    },
    {
     "data": {
      "image/png": "[encoded data removed]",
      "text/plain": [
       "<Figure size 432x288 with 1 Axes>"
      ]
     },
     "metadata": {
      "needs_background": "light"
     },
     "output_type": "display_data"
    }
   ],
   "source": [
    "ing.MonthlyFee.plot(kind='hist')"
   ]
  },
  {
   "cell_type": "code",
   "execution_count": 90,
   "metadata": {},
   "outputs": [
    {
     "data": {
      "text/plain": [
       "98.6"
      ]
     },
     "execution_count": 90,
     "metadata": {},
     "output_type": "execute_result"
    }
   ],
   "source": [
    "new.MonthlyFee.max()"
   ]
  },
  {
   "cell_type": "code",
   "execution_count": 91,
   "metadata": {},
   "outputs": [
    {
     "data": {
      "text/plain": [
       "110.0"
      ]
     },
     "execution_count": 91,
     "metadata": {},
     "output_type": "execute_result"
    }
   ],
   "source": [
    "old.MonthlyFee.max()"
   ]
  },
  {
   "cell_type": "code",
   "execution_count": 92,
   "metadata": {},
   "outputs": [
    {
     "data": {
      "text/plain": [
       "111.3"
      ]
     },
     "execution_count": 92,
     "metadata": {},
     "output_type": "execute_result"
    }
   ],
   "source": [
    "ing.MonthlyFee.max()"
   ]
  },
  {
   "cell_type": "markdown",
   "metadata": {},
   "source": [
    "### 9. OverFee\n",
    "##### : 초과요금"
   ]
  },
  {
   "cell_type": "code",
   "execution_count": 93,
   "metadata": {},
   "outputs": [
    {
     "data": {
      "text/plain": [
       "<AxesSubplot:ylabel='Frequency'>"
      ]
     },
     "execution_count": 93,
     "metadata": {},
     "output_type": "execute_result"
    },
    {
     "data": {
      "image/png": "[encoded data removed]",
      "text/plain": [
       "<Figure size 432x288 with 1 Axes>"
      ]
     },
     "metadata": {
      "needs_background": "light"
     },
     "output_type": "display_data"
    }
   ],
   "source": [
    "old.OverFee.plot(kind='hist')"
   ]
  },
  {
   "cell_type": "code",
   "execution_count": 94,
   "metadata": {},
   "outputs": [
    {
     "data": {
      "text/plain": [
       "<AxesSubplot:ylabel='Frequency'>"
      ]
     },
     "execution_count": 94,
     "metadata": {},
     "output_type": "execute_result"
    },
    {
     "data": {
      "image/png": "[encoded data removed]",
      "text/plain": [
       "<Figure size 432x288 with 1 Axes>"
      ]
     },
     "metadata": {
      "needs_background": "light"
     },
     "output_type": "display_data"
    }
   ],
   "source": [
    "new.OverFee.plot(kind='hist')"
   ]
  },
  {
   "cell_type": "code",
   "execution_count": 95,
   "metadata": {},
   "outputs": [
    {
     "data": {
      "text/plain": [
       "<AxesSubplot:ylabel='Frequency'>"
      ]
     },
     "execution_count": 95,
     "metadata": {},
     "output_type": "execute_result"
    },
    {
     "data": {
      "image/png": "[encoded data removed]",
      "text/plain": [
       "<Figure size 432x288 with 1 Axes>"
      ]
     },
     "metadata": {
      "needs_background": "light"
     },
     "output_type": "display_data"
    }
   ],
   "source": [
    "ing.OverFee.plot(kind='hist')"
   ]
  },
  {
   "cell_type": "markdown",
   "metadata": {},
   "source": [
    "##### (old) 와 (new) 는 분포가 비슷한 것을 분명하게 확인할 수 있습니다.\n",
    "##### (new) 는 약간 특이하지만, 크게 다르지 않아 보입니다."
   ]
  },
  {
   "cell_type": "markdown",
   "metadata": {},
   "source": [
    "### 10. RoamingMin\n",
    "##### : 로밍시간(분)"
   ]
  },
  {
   "cell_type": "code",
   "execution_count": 96,
   "metadata": {},
   "outputs": [
    {
     "data": {
      "text/plain": [
       "<AxesSubplot:ylabel='Frequency'>"
      ]
     },
     "execution_count": 96,
     "metadata": {},
     "output_type": "execute_result"
    },
    {
     "data": {
      "image/png": "[encoded data removed]",
      "text/plain": [
       "<Figure size 432x288 with 1 Axes>"
      ]
     },
     "metadata": {
      "needs_background": "light"
     },
     "output_type": "display_data"
    }
   ],
   "source": [
    "old.RoamingMin.plot(kind='hist')"
   ]
  },
  {
   "cell_type": "code",
   "execution_count": 97,
   "metadata": {},
   "outputs": [
    {
     "data": {
      "text/plain": [
       "<AxesSubplot:ylabel='Frequency'>"
      ]
     },
     "execution_count": 97,
     "metadata": {},
     "output_type": "execute_result"
    },
    {
     "data": {
      "image/png": "[encoded data removed]",
      "text/plain": [
       "<Figure size 432x288 with 1 Axes>"
      ]
     },
     "metadata": {
      "needs_background": "light"
     },
     "output_type": "display_data"
    }
   ],
   "source": [
    "new.RoamingMin.plot(kind='hist')"
   ]
  },
  {
   "cell_type": "code",
   "execution_count": 98,
   "metadata": {},
   "outputs": [
    {
     "data": {
      "text/plain": [
       "<AxesSubplot:ylabel='Frequency'>"
      ]
     },
     "execution_count": 98,
     "metadata": {},
     "output_type": "execute_result"
    },
    {
     "data": {
      "image/png": "[encoded data removed]",
      "text/plain": [
       "<Figure size 432x288 with 1 Axes>"
      ]
     },
     "metadata": {
      "needs_background": "light"
     },
     "output_type": "display_data"
    }
   ],
   "source": [
    "ing.RoamingMin.plot(kind='hist')"
   ]
  },
  {
   "cell_type": "code",
   "execution_count": 99,
   "metadata": {},
   "outputs": [
    {
     "data": {
      "text/plain": [
       "count    483.000000\n",
       "mean      10.703125\n",
       "std        2.792969\n",
       "min        2.000000\n",
       "25%        8.796875\n",
       "50%       10.601562\n",
       "75%       12.796875\n",
       "max       20.000000\n",
       "Name: RoamingMin, dtype: float64"
      ]
     },
     "execution_count": 99,
     "metadata": {},
     "output_type": "execute_result"
    }
   ],
   "source": [
    "old.RoamingMin.describe()"
   ]
  },
  {
   "cell_type": "code",
   "execution_count": 100,
   "metadata": {},
   "outputs": [
    {
     "data": {
      "text/plain": [
       "count    40.000000\n",
       "mean      9.656250\n",
       "std       2.070312\n",
       "min       4.500000\n",
       "25%       8.203125\n",
       "50%       9.750000\n",
       "75%      11.296875\n",
       "max      13.000000\n",
       "Name: RoamingMin, dtype: float64"
      ]
     },
     "execution_count": 100,
     "metadata": {},
     "output_type": "execute_result"
    }
   ],
   "source": [
    "new.RoamingMin.describe()"
   ]
  },
  {
   "cell_type": "code",
   "execution_count": 101,
   "metadata": {},
   "outputs": [
    {
     "data": {
      "text/plain": [
       "count    2810.000000\n",
       "mean       10.164062\n",
       "std         2.792969\n",
       "min         0.000000\n",
       "25%         8.398438\n",
       "50%        10.203125\n",
       "75%        12.000000\n",
       "max        18.906250\n",
       "Name: RoamingMin, dtype: float64"
      ]
     },
     "execution_count": 101,
     "metadata": {},
     "output_type": "execute_result"
    }
   ],
   "source": [
    "ing.RoamingMin.describe()"
   ]
  },
  {
   "cell_type": "markdown",
   "metadata": {},
   "source": [
    "#### 평균과 표준편차가 비슷한 것을 보고, 데이터를 그럭저럭 잘 나눴음을 확인할 수 있습니다."
   ]
  },
  {
   "cell_type": "markdown",
   "metadata": {},
   "source": [
    "#### ★ 지금까지 나온 분석 결과들을 취합하여 잘 정리한다면, (이동통신사) 에서, 수익을 내기 위한 프로젝트를 만들기 위해서, \n",
    "#### 혹은 고객별로 차별화된 마케팅 전략을 수립하는 데에도, 잘~ 사용될 수 있으리라 생각이 듭니다.\n",
    "#### 또, 다른 데이터들도 이런 식으로 정리해보면, 새로운 인사이트를 얻을 수 있을 것 같습니다."
   ]
  },
  {
   "cell_type": "markdown",
   "metadata": {},
   "source": [
    "### 이상 분석을 마치겠습니다!\n",
    "### 감사합니다!"
   ]
  }
 ],
 "metadata": {
  "kernelspec": {
   "display_name": "Python 3",
   "language": "python",
   "name": "python3"
  },
  "language_info": {
   "codemirror_mode": {
    "name": "ipython",
    "version": 3
   },
   "file_extension": ".py",
   "mimetype": "text/x-python",
   "name": "python",
   "nbconvert_exporter": "python",
   "pygments_lexer": "ipython3",
   "version": "3.8.5"
  }
 },
 "nbformat": 4,
 "nbformat_minor": 4
}
